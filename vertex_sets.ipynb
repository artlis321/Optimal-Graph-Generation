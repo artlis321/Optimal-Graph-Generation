{
 "cells": [
  {
   "cell_type": "code",
   "execution_count": 1,
   "metadata": {},
   "outputs": [
    {
     "name": "stderr",
     "output_type": "stream",
     "text": [
      "\u001b[32m\u001b[1m    Updating\u001b[22m\u001b[39m registry at `C:\\Users\\Artyom\\.julia\\registries\\General.toml`\n",
      "\u001b[32m\u001b[1m   Resolving\u001b[22m\u001b[39m package versions...\n",
      "\u001b[32m\u001b[1m  No Changes\u001b[22m\u001b[39m to `C:\\Users\\Artyom\\.julia\\environments\\v1.8\\Project.toml`\n",
      "\u001b[32m\u001b[1m  No Changes\u001b[22m\u001b[39m to `C:\\Users\\Artyom\\.julia\\environments\\v1.8\\Manifest.toml`\n",
      "\u001b[32m\u001b[1m   Resolving\u001b[22m\u001b[39m package versions...\n",
      "\u001b[32m\u001b[1m  No Changes\u001b[22m\u001b[39m to `C:\\Users\\Artyom\\.julia\\environments\\v1.8\\Project.toml`\n",
      "\u001b[32m\u001b[1m  No Changes\u001b[22m\u001b[39m to `C:\\Users\\Artyom\\.julia\\environments\\v1.8\\Manifest.toml`\n"
     ]
    }
   ],
   "source": [
    "import Pkg\n",
    "Pkg.add(\"TikzPictures\"); using TikzPictures\n",
    "Pkg.add(\"Combinatorics\"); using Combinatorics"
   ]
  },
  {
   "cell_type": "code",
   "execution_count": 18,
   "metadata": {},
   "outputs": [
    {
     "data": {
      "text/plain": [
       "paths_from_sources (generic function with 1 method)"
      ]
     },
     "execution_count": 18,
     "metadata": {},
     "output_type": "execute_result"
    }
   ],
   "source": [
    "function paths_from_sources(source_list::Array{Char})\n",
    "    L = length(source_list)\n",
    "    path_list = Array{Tuple{Char,Char}}(undef,(L*(L-1))÷2)\n",
    "    ind = 1\n",
    "    for i=1:L\n",
    "        for j=i+1:L\n",
    "            path_list[ind] = (source_list[i],source_list[j])\n",
    "            ind += 1\n",
    "        end\n",
    "    end\n",
    "    return path_list\n",
    "end"
   ]
  },
  {
   "cell_type": "code",
   "execution_count": 19,
   "metadata": {},
   "outputs": [
    {
     "data": {
      "text/plain": [
       "edges_from_paths (generic function with 1 method)"
      ]
     },
     "execution_count": 19,
     "metadata": {},
     "output_type": "execute_result"
    }
   ],
   "source": [
    "function edges_recursive(selected::Vector{Int8},path_list::Vector{Tuple{Char,Char}},source_list::Array{Char},in_chars::Set{Char},out_chars::Set{Char})\n",
    "    if length(selected) == length(path_list)\n",
    "        if all(selected .== 0)\n",
    "            return []\n",
    "        end\n",
    "        return [selected]\n",
    "    end\n",
    "\n",
    "    possible_edges = Vector{Vector{Int8}}(undef,0)\n",
    "    next_path = path_list[length(selected)+1]\n",
    "\n",
    "    if !(next_path[1] in out_chars) && !(next_path[2] in in_chars)\n",
    "        new_selected = vcat(selected,Vector{Int8}([1]))\n",
    "        new_in = union(in_chars,[next_path[1]])\n",
    "        new_out = union(out_chars,[next_path[2]])\n",
    "        edges = edges_recursive(new_selected,path_list,source_list,new_in,new_out)\n",
    "        append!(possible_edges,edges)\n",
    "    end\n",
    "\n",
    "    if !(next_path[1] in in_chars) && !(next_path[2] in out_chars)\n",
    "        new_selected = vcat(selected,Vector{Int8}([-1]))\n",
    "        new_in = union(in_chars,[next_path[2]])\n",
    "        new_out = union(out_chars,[next_path[1]])\n",
    "        edges = edges_recursive(new_selected,path_list,source_list,new_in,new_out)\n",
    "        append!(possible_edges,edges)\n",
    "    end\n",
    "\n",
    "    new_selected = vcat(selected,Vector{Int8}([0]))\n",
    "    edges = edges_recursive(new_selected,path_list,source_list,in_chars,out_chars)\n",
    "    append!(possible_edges,edges)\n",
    "\n",
    "    return possible_edges\n",
    "end\n",
    "\n",
    "function edges_from_paths(path_list::Array{Tuple{Char,Char}},source_list::Array{Char})\n",
    "    return edges_recursive(Vector{Int8}([]),path_list,source_list,Set{Char}(),Set{Char}())\n",
    "end"
   ]
  },
  {
   "cell_type": "code",
   "execution_count": 20,
   "metadata": {},
   "outputs": [
    {
     "data": {
      "text/plain": [
       "vertices_from_edges (generic function with 1 method)"
      ]
     },
     "execution_count": 20,
     "metadata": {},
     "output_type": "execute_result"
    }
   ],
   "source": [
    "function vertices_from_edges(edge_list::Vector{Vector{Int8}},path_list::Array{Tuple{Char,Char}},source_list::Array{Char})\n",
    "    vertex_list = Vector{Array{Vector{Int8}}}([])\n",
    "    for i=1:length(edge_list)\n",
    "        edge = edge_list[i]\n",
    "        if sum(abs.(edge)) == 1\n",
    "            continue\n",
    "        end\n",
    "        out_chars = Vector{Char}([])\n",
    "        out_char_corresponding_inds = []\n",
    "        for j=1:length(edge)\n",
    "            if edge[j]==0\n",
    "                continue\n",
    "            end\n",
    "\n",
    "            if edge[j]==1\n",
    "                index = findfirst(out_chars .== path_list[j][2])\n",
    "                if index==nothing\n",
    "                    push!(out_chars,path_list[j][2])\n",
    "                    push!(out_char_corresponding_inds,[j])\n",
    "                    continue\n",
    "                end\n",
    "                push!(out_char_corresponding_inds[index],j)\n",
    "            end\n",
    "\n",
    "            if edge[j]==-1\n",
    "                index = findfirst(out_chars .== path_list[j][1])\n",
    "                if index==nothing\n",
    "                    push!(out_chars,path_list[j][1])\n",
    "                    push!(out_char_corresponding_inds,[j])\n",
    "                    continue\n",
    "                end\n",
    "                push!(out_char_corresponding_inds[index],j)\n",
    "            end\n",
    "        end\n",
    "\n",
    "        if length(out_chars) == 1\n",
    "            continue\n",
    "        end\n",
    "\n",
    "        for c in combinations(2:length(out_chars))\n",
    "            left_char_inds = append!([1],setdiff(2:length(out_chars),c))\n",
    "            right_char_inds = c\n",
    "\n",
    "            left_path_inds = vcat([out_char_corresponding_inds[j] for j in left_char_inds]...)\n",
    "            right_path_inds = vcat([out_char_corresponding_inds[j] for j in right_char_inds]...)\n",
    "\n",
    "            vertex = Array{Vector{Int8}}(undef,3)\n",
    "            vertex[1] = edge\n",
    "            vertex[2] = [j in left_path_inds ? -edge[j] : 0 for j=1:length(edge)]\n",
    "            vertex[3] = [j in right_path_inds ? -edge[j] : 0 for j=1:length(edge)]\n",
    "            push!(vertex_list,vertex)\n",
    "        end\n",
    "    end\n",
    "\n",
    "    return vertex_list\n",
    "end"
   ]
  },
  {
   "cell_type": "code",
   "execution_count": 21,
   "metadata": {},
   "outputs": [
    {
     "data": {
      "text/plain": [
       "starting_edges_from_paths (generic function with 1 method)"
      ]
     },
     "execution_count": 21,
     "metadata": {},
     "output_type": "execute_result"
    }
   ],
   "source": [
    "function splitting_compatibility_and_requirement(vertex_list,path_list)\n",
    "    L = length(vertex_list)\n",
    "    compatibility = Array{Bool}(undef,(L,L))\n",
    "    requirement = Array{Bool}(undef,(L,L))\n",
    "    path_count = length(path_list)\n",
    "    for i=1:length(vertex_list)\n",
    "        compatibility[i,i] = false\n",
    "        requirement[i,i] = false\n",
    "        for j=(i+1):length(vertex_list)\n",
    "            v1 = vertex_list[i]\n",
    "            v2 = vertex_list[j]\n",
    "\n",
    "            compatibility_flag = true\n",
    "            requirement_flag = false\n",
    "\n",
    "            for p1=1:path_count\n",
    "                for p2=1:path_count\n",
    "                    if v1[2][p1]!=0 && v1[3][p2]!=0\n",
    "                        if v2[2][p1]!=0 && v2[3][p2]!=0\n",
    "                            if (v1[2][p1],v1[3][p2]) == (v2[2][p1],v2[3][p2]) ||\n",
    "                                (v1[2][p1]*v1[3][p2]) != (v2[2][p1]*v2[3][p2])\n",
    "                                compatibility_flag = false\n",
    "                            else\n",
    "                                requirement_flag = true\n",
    "                            end\n",
    "                        elseif v2[3][p1]!=0 && v2[2][p2]!=0\n",
    "                            if (v1[2][p1],v1[3][p2]) == (v2[3][p1],v2[2][p2]) ||\n",
    "                                (v1[2][p1]*v1[3][p2]) != (v2[3][p1]*v2[2][p2])\n",
    "                                compatibility_flag = false\n",
    "                            else\n",
    "                                requirement_flag = true\n",
    "                            end\n",
    "                        end\n",
    "                    end\n",
    "                end\n",
    "            end\n",
    "\n",
    "            if compatibility_flag\n",
    "                \"\"\"v1_inputs = Set([v1[1][i]==1 ? (path_list[i][1]) : (path_list[i][2]) for i=1:path_count if v1[1][i]!=0])\n",
    "                v1_outputs = Set([v1[1][i]==1 ? (path_list[i][2]) : (path_list[i][1]) for i=1:path_count if v1[1][i]!=0])\n",
    "\n",
    "                v2_inputs = Set([v2[1][i]==1 ? (path_list[i][1]) : (path_list[i][2]) for i=1:path_count if v2[1][i]!=0])\n",
    "                v2_outputs = Set([v2[1][i]==1 ? (path_list[i][2]) : (path_list[i][1]) for i=1:path_count if v2[1][i]!=0])\n",
    "\n",
    "                if (v1_inputs==v2_inputs && v1_outputs==v2_outputs) ||\n",
    "                    (v1_inputs==v2_outputs && v1_outputs==v2_inputs)\n",
    "                    v1_paths = Set(findall(v1[1].!=0))\n",
    "                    v2_paths = Set(findall(v2[1].!=0))\n",
    "                    if !issubset(v1_paths,v2_paths) && !issubset(v2_paths,v1_paths)\n",
    "                        compatibility_flag = false\n",
    "                    end\n",
    "                end\"\"\"\n",
    "\n",
    "                v1_connections = [path_list[i][j] for i=1:path_count if v1[1][i]!=0 for j=1:2]\n",
    "                v2_connections = [path_list[i][j] for i=1:path_count if v2[1][i]!=0 for j=1:2]\n",
    "\n",
    "                if sort(v1_connections) == sort(v2_connections)\n",
    "                    v1_paths = Set(findall(v1[1].!=0))\n",
    "                    v2_paths = Set(findall(v2[1].!=0))\n",
    "                    if !issubset(v1_paths,v2_paths) && !issubset(v2_paths,v1_paths)\n",
    "                        compatibility_flag = false\n",
    "                    end\n",
    "                end\n",
    "            end\n",
    "\n",
    "            compatibility[i,j] = compatibility_flag\n",
    "            compatibility[j,i] = compatibility_flag\n",
    "            requirement[i,j] = requirement_flag\n",
    "            requirement[j,i] = requirement_flag\n",
    "        end\n",
    "    end\n",
    "\n",
    "    return compatibility,requirement\n",
    "end\n",
    "\n",
    "function connecting_edge_requirement_dictionary(vertex_list)\n",
    "    dict = Dict{Vector{Int8},Vector{Int}}()\n",
    "\n",
    "    for i=1:length(vertex_list)\n",
    "        v = vertex_list[i]\n",
    "\n",
    "        for j=1:3\n",
    "            e = v[j]\n",
    "            has_key = get(dict,e,false)!=false\n",
    "            if has_key\n",
    "                push!(dict[e],i)\n",
    "            else\n",
    "                dict[e] = [i]\n",
    "            end\n",
    "        end\n",
    "    end\n",
    "\n",
    "    return dict\n",
    "end\n",
    "\n",
    "function recursive_set_calculation(loose_edges,selected,remaining,compatibility,requirement,edge_dictionary,vertex_list)\n",
    "    available = selected .|| remaining\n",
    "    for i in findall(selected)\n",
    "        r = requirement[i,:]\n",
    "        if any(r) && !any(r .&& available)\n",
    "            return []\n",
    "        end\n",
    "    end\n",
    "    \n",
    "    for e in loose_edges\n",
    "        possible_vertices = get(edge_dictionary,-e,[])\n",
    "        if !any(remaining[possible_vertices])\n",
    "            return []\n",
    "        end\n",
    "    end\n",
    "\n",
    "    ind = findfirst(remaining)\n",
    "\n",
    "    if ind==nothing\n",
    "        return [selected]\n",
    "    end\n",
    "\n",
    "    included_selected = copy(selected)\n",
    "    included_selected[ind] = true\n",
    "    included_remaining = remaining .&& compatibility[ind,:]\n",
    "    included_remaining[ind] = false\n",
    "\n",
    "    included_loose_edges = copy(loose_edges)\n",
    "    for e in vertex_list[ind]\n",
    "        if (-e) in included_loose_edges\n",
    "            match = [edge==(-e) for edge in included_loose_edges]\n",
    "            corresponding_index = findfirst(match)\n",
    "            popat!(included_loose_edges,corresponding_index)\n",
    "        else\n",
    "            push!(included_loose_edges,e)\n",
    "        end\n",
    "    end\n",
    "\n",
    "    included_sets = recursive_set_calculation(  included_loose_edges,\n",
    "                                                included_selected,\n",
    "                                                included_remaining,\n",
    "                                                compatibility,\n",
    "                                                requirement,\n",
    "                                                edge_dictionary,\n",
    "                                                vertex_list)\n",
    "\n",
    "    excluded_selected = selected\n",
    "    excluded_loose_edge = loose_edges\n",
    "    excluded_remaining = copy(remaining)\n",
    "    excluded_remaining[ind] = false\n",
    "    \n",
    "    excluded_sets = recursive_set_calculation(  excluded_loose_edge,\n",
    "                                                excluded_selected,\n",
    "                                                excluded_remaining,\n",
    "                                                compatibility,\n",
    "                                                requirement,\n",
    "                                                edge_dictionary,\n",
    "                                                vertex_list)\n",
    "\n",
    "    return vcat(included_sets,excluded_sets)\n",
    "end\n",
    "\n",
    "function starting_edges_from_paths(path_list,source_list)\n",
    "    edges = Vector{Vector{Int8}}(undef,length(source_list))\n",
    "    for i=1:length(source_list)\n",
    "        edges[i] = zeros(Int8,length(path_list))\n",
    "        for j=1:length(path_list)\n",
    "            if path_list[j][1]==source_list[i]\n",
    "                edges[i][j] = -1\n",
    "            elseif path_list[j][2]==source_list[i]\n",
    "                edges[i][j] = 1\n",
    "            end\n",
    "        end\n",
    "    end\n",
    "\n",
    "    return edges\n",
    "end"
   ]
  },
  {
   "cell_type": "code",
   "execution_count": 22,
   "metadata": {},
   "outputs": [
    {
     "data": {
      "text/plain": [
       "generate_valid_graphs (generic function with 1 method)"
      ]
     },
     "execution_count": 22,
     "metadata": {},
     "output_type": "execute_result"
    }
   ],
   "source": [
    "function connect_vertices(vertices,starting_edges)\n",
    "    dict = Dict{Vector{Int8},Tuple{Vector{Tuple{Int,Int}},Vector{Tuple{Int,Int}}}}()\n",
    "\n",
    "    for i=1:length(starting_edges)\n",
    "        e = starting_edges[i]\n",
    "        dict[e] = ([(-i,i)],[])\n",
    "    end\n",
    "\n",
    "    for i=1:length(vertices)\n",
    "        v = vertices[i]\n",
    "\n",
    "        for j=1:3\n",
    "            e = v[j]\n",
    "            direct_entry = get(dict,e,false)\n",
    "            conjugate_entry = get(dict,-e,false)\n",
    "            if (direct_entry != false)\n",
    "                push!( dict[e][1] , (i,j) )\n",
    "            elseif (conjugate_entry != false)\n",
    "                push!( dict[-e][2] , (i,j) )\n",
    "            else\n",
    "                dict[e] = ([(i,j)],[])\n",
    "            end\n",
    "        end\n",
    "    end\n",
    "\n",
    "    dict_keys = collect(keys(dict))\n",
    "    conjugate_indices = [dict[k][2] for k in dict_keys]\n",
    "    conjugate_options = [collect(permutations(c)) for c in conjugate_indices]\n",
    "\n",
    "    if prod(length.(conjugate_indices)) == 1\n",
    "        out_connections = Array{Array{Int}}(undef,1)\n",
    "        out_connections[1] = Array{Int}(undef,(length(vertices),3))\n",
    "        for k=1:length(dict_keys)\n",
    "            left = dict[dict_keys[k]][1][1]\n",
    "            right = dict[dict_keys[k]][2][1]\n",
    "            if left[1] > 0\n",
    "                out_connections[1][left[1],left[2]] = right[1]\n",
    "            end\n",
    "            if right[1] > 0\n",
    "                out_connections[1][right[1],right[2]] = left[1]\n",
    "            end\n",
    "        end\n",
    "        return out_connections\n",
    "    end\n",
    "\n",
    "    connection_possibilities = reduce(vcat,Iterators.product(conjugate_options...) |> collect)\n",
    "\n",
    "    out_connections = Array{Array{Int}}(undef,length(connection_possibilities))\n",
    "    for i=1:length(connection_possibilities)\n",
    "        c = connection_possibilities[i]\n",
    "        out_connections[i] = Array{Int}(undef,(length(vertices),3))\n",
    "        for k=1:length(dict_keys)\n",
    "            for j=1:length(dict[dict_keys[k]][1])\n",
    "                left = dict[dict_keys[k]][1][j]\n",
    "                right = c[k][j]\n",
    "                if left[1] > 0\n",
    "                    out_connections[i][left[1],left[2]] = right[1]\n",
    "                end\n",
    "                if right[1] > 0\n",
    "                    out_connections[i][right[1],right[2]] = left[1]\n",
    "                end\n",
    "            end\n",
    "        end\n",
    "    end\n",
    "\n",
    "    return out_connections\n",
    "end\n",
    "\n",
    "function validate_connection(vertices,connection,path_count)\n",
    "    for p=1:path_count\n",
    "        relevant_vertices = Set{Int}([])\n",
    "        for v=1:length(vertices)\n",
    "            if vertices[v][1][p] != 0\n",
    "                push!(relevant_vertices,v)\n",
    "            end\n",
    "        end\n",
    "        v = pop!(relevant_vertices)\n",
    "        queue = [v]\n",
    "        used = []\n",
    "        while length(queue) != 0\n",
    "            cur = pop!(queue)\n",
    "            push!(used,cur)\n",
    "\n",
    "            for i=1:3\n",
    "                edge = vertices[cur][i]\n",
    "                if edge[p] != 0\n",
    "                    connected = connection[cur,i]\n",
    "                    if connected in relevant_vertices\n",
    "                        push!(queue,connected)\n",
    "                        delete!(relevant_vertices,connected)\n",
    "                    elseif (connected > 0) && !(connected in used)\n",
    "                        return false\n",
    "                    end\n",
    "                end\n",
    "            end\n",
    "        end\n",
    "        if length(relevant_vertices) > 0\n",
    "            return false\n",
    "        end\n",
    "    end\n",
    "\n",
    "    return true\n",
    "end\n",
    "\n",
    "function generate_valid_graphs(vertex_sets,vertex_list,starting_edges,path_count)\n",
    "    graphs = Vector{Tuple{Vector{Array{Vector{Int8}}},Array{Int64}}}(undef,0)\n",
    "    for s in vertex_sets\n",
    "        vertices = vertex_list[s]\n",
    "        connections = connect_vertices(vertices,starting_edges)\n",
    "        for c in connections\n",
    "            if validate_connection(vertices,c,path_count)\n",
    "                push!(graphs,(vertices,c))\n",
    "            end\n",
    "        end\n",
    "    end\n",
    "    return graphs\n",
    "end"
   ]
  },
  {
   "cell_type": "code",
   "execution_count": 23,
   "metadata": {},
   "outputs": [
    {
     "data": {
      "text/plain": [
       "66-element Vector{Array{Vector{Int8}}}:\n",
       " [[1, 1, 1, 0, 0, 0], [-1, 0, -1, 0, 0, 0], [0, -1, 0, 0, 0, 0]]\n",
       " [[1, 1, 1, 0, 0, 0], [-1, -1, 0, 0, 0, 0], [0, 0, -1, 0, 0, 0]]\n",
       " [[1, 1, 1, 0, 0, 0], [-1, 0, 0, 0, 0, 0], [0, -1, -1, 0, 0, 0]]\n",
       " [[1, 1, 0, 0, -1, -1], [-1, 0, 0, 0, 1, 0], [0, -1, 0, 0, 0, 1]]\n",
       " [[1, 1, 0, 0, -1, 0], [-1, 0, 0, 0, 1, 0], [0, -1, 0, 0, 0, 0]]\n",
       " [[1, 1, 0, 0, 0, -1], [-1, 0, 0, 0, 0, 0], [0, -1, 0, 0, 0, 1]]\n",
       " [[1, 1, 0, 0, 0, 0], [-1, 0, 0, 0, 0, 0], [0, -1, 0, 0, 0, 0]]\n",
       " [[1, 0, 1, -1, 0, 1], [-1, 0, 0, 1, 0, 0], [0, 0, -1, 0, 0, -1]]\n",
       " [[1, 0, 1, -1, 0, 0], [-1, 0, 0, 1, 0, 0], [0, 0, -1, 0, 0, 0]]\n",
       " [[1, 0, 1, 0, 0, 1], [-1, 0, 0, 0, 0, 0], [0, 0, -1, 0, 0, -1]]\n",
       " [[1, 0, 1, 0, 0, 0], [-1, 0, 0, 0, 0, 0], [0, 0, -1, 0, 0, 0]]\n",
       " [[1, 0, 0, -1, 0, 1], [-1, 0, 0, 1, 0, 0], [0, 0, 0, 0, 0, -1]]\n",
       " [[1, 0, 0, 0, -1, -1], [-1, 0, 0, 0, 1, 0], [0, 0, 0, 0, 0, 1]]\n",
       " ⋮\n",
       " [[0, 0, -1, 1, 0, -1], [0, 0, 1, 0, 0, 0], [0, 0, 0, -1, 0, 1]]\n",
       " [[0, 0, -1, 1, 0, 0], [0, 0, 1, 0, 0, 0], [0, 0, 0, -1, 0, 0]]\n",
       " [[0, 0, -1, -1, -1, 0], [0, 0, 1, 0, 0, 0], [0, 0, 0, 1, 1, 0]]\n",
       " [[0, 0, -1, -1, 0, 0], [0, 0, 1, 0, 0, 0], [0, 0, 0, 1, 0, 0]]\n",
       " [[0, 0, -1, 0, -1, -1], [0, 0, 1, 0, 0, 1], [0, 0, 0, 0, 1, 0]]\n",
       " [[0, 0, -1, 0, -1, -1], [0, 0, 1, 0, 1, 0], [0, 0, 0, 0, 0, 1]]\n",
       " [[0, 0, -1, 0, -1, -1], [0, 0, 1, 0, 0, 0], [0, 0, 0, 0, 1, 1]]\n",
       " [[0, 0, -1, 0, -1, 0], [0, 0, 1, 0, 0, 0], [0, 0, 0, 0, 1, 0]]\n",
       " [[0, 0, -1, 0, 0, -1], [0, 0, 1, 0, 0, 0], [0, 0, 0, 0, 0, 1]]\n",
       " [[0, 0, 0, 1, 1, 0], [0, 0, 0, -1, 0, 0], [0, 0, 0, 0, -1, 0]]\n",
       " [[0, 0, 0, -1, 0, 1], [0, 0, 0, 1, 0, 0], [0, 0, 0, 0, 0, -1]]\n",
       " [[0, 0, 0, 0, -1, -1], [0, 0, 0, 0, 1, 0], [0, 0, 0, 0, 0, 1]]"
      ]
     },
     "execution_count": 23,
     "metadata": {},
     "output_type": "execute_result"
    }
   ],
   "source": [
    "source_list = ['A','B','C','D']\n",
    "path_list = paths_from_sources(source_list)\n",
    "edge_list = edges_from_paths(path_list,source_list)\n",
    "vertex_list = vertices_from_edges(edge_list,path_list,source_list)"
   ]
  },
  {
   "cell_type": "code",
   "execution_count": 24,
   "metadata": {},
   "outputs": [
    {
     "data": {
      "text/plain": [
       "(Bool[0 0 … 1 1; 0 0 … 1 1; … ; 1 1 … 0 1; 1 1 … 1 0], Bool[0 0 … 0 0; 0 0 … 0 0; … ; 0 0 … 0 0; 0 0 … 0 0])"
      ]
     },
     "execution_count": 24,
     "metadata": {},
     "output_type": "execute_result"
    }
   ],
   "source": [
    "c,r = splitting_compatibility_and_requirement(vertex_list,path_list)"
   ]
  },
  {
   "cell_type": "code",
   "execution_count": 25,
   "metadata": {},
   "outputs": [
    {
     "data": {
      "text/plain": [
       "Dict{Vector{Int8}, Vector{Int64}} with 82 entries:\n",
       "  [0, 0, -1, 1, 0, 0]    => [56]\n",
       "  [1, 1, 0, 0, 0, 0]     => [7, 16, 17, 18]\n",
       "  [0, 0, -1, 1, 0, -1]   => [55]\n",
       "  [-1, 0, -1, 0, 0, 0]   => [1]\n",
       "  [1, 1, 0, 0, 0, -1]    => [6]\n",
       "  [0, -1, 0, 0, 1, 1]    => [47]\n",
       "  [-1, 0, -1, 0, 0, -1]  => [21]\n",
       "  [0, -1, -1, 0, -1, 0]  => [41]\n",
       "  [0, 1, 0, 1, 0, 0]     => [44]\n",
       "  [0, -1, -1, 0, 0, 0]   => [3]\n",
       "  [0, 0, 1, -1, 0, 1]    => [53]\n",
       "  [1, 0, 1, 0, 0, 1]     => [10]\n",
       "  [0, 1, 0, 0, 1, 0]     => [36]\n",
       "  [0, 0, 1, 1, 1, 0]     => [51]\n",
       "  [0, -1, -1, -1, -1, 0] => [39]\n",
       "  [0, 0, 0, 0, -1, 0]    => [17, 23, 28, 35, 36, 48, 64]\n",
       "  [-1, 0, -1, 1, 0, 0]   => [20]\n",
       "  [0, 0, 0, 0, -1, -1]   => [16, 27, 47, 66]\n",
       "  [-1, 0, -1, 1, 0, -1]  => [19]\n",
       "  [-1, -1, 0, 0, 1, 1]   => [16]\n",
       "  [0, -1, -1, -1, 0, 0]  => [40]\n",
       "  [1, 0, 1, -1, 0, 1]    => [8]\n",
       "  [0, 0, 0, 0, 0, -1]    => [12, 14, 18, 29, 44, 50, 65]\n",
       "  [0, 1, 0, 1, 1, 0]     => [35]\n",
       "  [0, 1, 1, 0, 0, 0]     => [34, 39, 40, 41]\n",
       "  ⋮                      => ⋮"
      ]
     },
     "execution_count": 25,
     "metadata": {},
     "output_type": "execute_result"
    }
   ],
   "source": [
    "e = connecting_edge_requirement_dictionary(vertex_list)"
   ]
  },
  {
   "cell_type": "code",
   "execution_count": 26,
   "metadata": {},
   "outputs": [
    {
     "data": {
      "text/plain": [
       "4-element Vector{Vector{Int8}}:\n",
       " [-1, -1, -1, 0, 0, 0]\n",
       " [1, 0, 0, -1, -1, 0]\n",
       " [0, 1, 0, 1, 0, -1]\n",
       " [0, 0, 1, 0, 1, 1]"
      ]
     },
     "execution_count": 26,
     "metadata": {},
     "output_type": "execute_result"
    }
   ],
   "source": [
    "starting_edges = starting_edges_from_paths(path_list,source_list)"
   ]
  },
  {
   "cell_type": "code",
   "execution_count": 27,
   "metadata": {},
   "outputs": [
    {
     "data": {
      "text/plain": [
       "1134-element Vector{Any}:\n",
       " Bool[1, 0, 0, 0, 0, 0, 0, 1, 0, 0  …  0, 0, 1, 0, 0, 0, 0, 0, 0, 0]\n",
       " Bool[1, 0, 0, 0, 0, 0, 0, 1, 0, 0  …  0, 0, 1, 0, 0, 0, 0, 0, 0, 0]\n",
       " Bool[1, 0, 0, 0, 0, 0, 0, 1, 0, 0  …  0, 0, 1, 0, 0, 0, 0, 0, 0, 0]\n",
       " Bool[1, 0, 0, 0, 0, 0, 0, 0, 1, 0  …  0, 0, 0, 0, 1, 0, 0, 0, 0, 0]\n",
       " Bool[1, 0, 0, 0, 0, 0, 0, 0, 1, 0  …  0, 0, 1, 0, 0, 0, 1, 0, 0, 0]\n",
       " Bool[1, 0, 0, 0, 0, 0, 0, 0, 1, 0  …  0, 0, 0, 1, 0, 1, 0, 0, 0, 0]\n",
       " Bool[1, 0, 0, 0, 0, 0, 0, 0, 1, 0  …  0, 0, 0, 0, 1, 0, 0, 0, 0, 1]\n",
       " Bool[1, 0, 0, 0, 0, 0, 0, 0, 1, 0  …  0, 0, 1, 0, 0, 0, 1, 0, 0, 0]\n",
       " Bool[1, 0, 0, 0, 0, 0, 0, 0, 1, 0  …  0, 0, 0, 1, 0, 1, 0, 0, 0, 0]\n",
       " Bool[1, 0, 0, 0, 0, 0, 0, 0, 1, 0  …  0, 0, 0, 0, 1, 0, 0, 0, 0, 1]\n",
       " Bool[1, 0, 0, 0, 0, 0, 0, 0, 1, 0  …  0, 0, 1, 0, 0, 0, 1, 0, 1, 0]\n",
       " Bool[1, 0, 0, 0, 0, 0, 0, 0, 1, 0  …  0, 0, 0, 1, 0, 1, 0, 0, 1, 0]\n",
       " Bool[1, 0, 0, 0, 0, 0, 0, 0, 1, 0  …  0, 0, 0, 0, 1, 0, 0, 0, 1, 1]\n",
       " ⋮\n",
       " Bool[0, 0, 1, 0, 0, 0, 0, 0, 0, 0  …  0, 0, 0, 0, 1, 0, 0, 1, 0, 1]\n",
       " Bool[0, 0, 1, 0, 0, 0, 0, 0, 0, 0  …  1, 0, 0, 1, 0, 0, 0, 0, 1, 0]\n",
       " Bool[0, 0, 1, 0, 0, 0, 0, 0, 0, 0  …  0, 1, 1, 0, 0, 0, 1, 1, 1, 0]\n",
       " Bool[0, 0, 1, 0, 0, 0, 0, 0, 0, 0  …  0, 1, 0, 1, 0, 1, 0, 1, 1, 0]\n",
       " Bool[0, 0, 1, 0, 0, 0, 0, 0, 0, 0  …  0, 1, 0, 0, 1, 0, 0, 1, 1, 1]\n",
       " Bool[0, 0, 1, 0, 0, 0, 0, 0, 0, 0  …  0, 0, 1, 0, 0, 0, 0, 1, 0, 0]\n",
       " Bool[0, 0, 1, 0, 0, 0, 0, 0, 0, 0  …  0, 0, 1, 0, 0, 0, 1, 1, 1, 0]\n",
       " Bool[0, 0, 1, 0, 0, 0, 0, 0, 0, 0  …  0, 0, 0, 1, 0, 1, 0, 1, 1, 0]\n",
       " Bool[0, 0, 1, 0, 0, 0, 0, 0, 0, 0  …  0, 0, 0, 0, 1, 0, 0, 1, 1, 1]\n",
       " Bool[0, 0, 1, 0, 0, 0, 0, 0, 0, 0  …  0, 0, 1, 0, 0, 0, 1, 1, 1, 0]\n",
       " Bool[0, 0, 1, 0, 0, 0, 0, 0, 0, 0  …  0, 0, 0, 1, 0, 1, 0, 1, 1, 0]\n",
       " Bool[0, 0, 1, 0, 0, 0, 0, 0, 0, 0  …  0, 0, 0, 0, 1, 0, 0, 1, 1, 1]"
      ]
     },
     "execution_count": 27,
     "metadata": {},
     "output_type": "execute_result"
    }
   ],
   "source": [
    "vertex_sets = recursive_set_calculation(starting_edges,zeros(Bool,length(vertex_list)),ones(Bool,length(vertex_list)),c,r,e,vertex_list)"
   ]
  },
  {
   "cell_type": "code",
   "execution_count": 28,
   "metadata": {},
   "outputs": [
    {
     "data": {
      "text/plain": [
       "3-element Vector{Vector{Int8}}:\n",
       " [1, 1, 1, 0, 0, 0]\n",
       " [-1, 0, -1, 0, 0, 0]\n",
       " [0, -1, 0, 0, 0, 0]"
      ]
     },
     "execution_count": 28,
     "metadata": {},
     "output_type": "execute_result"
    }
   ],
   "source": [
    "vertex_list[1]"
   ]
  },
  {
   "cell_type": "code",
   "execution_count": 29,
   "metadata": {},
   "outputs": [
    {
     "data": {
      "text/plain": [
       "906"
      ]
     },
     "execution_count": 29,
     "metadata": {},
     "output_type": "execute_result"
    }
   ],
   "source": [
    "graph_list = generate_valid_graphs(vertex_sets,vertex_list,starting_edges,length(path_list))\n",
    "length(graph_list)"
   ]
  },
  {
   "cell_type": "code",
   "execution_count": 44,
   "metadata": {},
   "outputs": [
    {
     "data": {
      "text/plain": [
       "22"
      ]
     },
     "execution_count": 44,
     "metadata": {},
     "output_type": "execute_result"
    }
   ],
   "source": [
    "A_split = 'B'\n",
    "B_split = 'A'\n",
    "C_split = 'D'\n",
    "D_split = 'C'\n",
    "\n",
    "if A_split == 'B'\n",
    "    v1 = [ [1,1,1,0,0,0] , [-1,0,0,0,0,0] , [0,-1,-1,0,0,0] ]\n",
    "elseif A_split == 'C'\n",
    "    v1 = [ [1,1,1,0,0,0] , [-1,0,-1,0,0,0] , [0,-1,0,0,0,0] ]\n",
    "elseif A_split == 'D'\n",
    "    v1 = [ [1,1,1,0,0,0] , [-1,-1,0,0,0,0] , [0,0,-1,0,0,0] ]\n",
    "end\n",
    "\n",
    "if B_split == 'A'\n",
    "    v2 = [ [-1,0,0,1,1,0] , [1,0,0,0,0,0] , [0,0,0,-1,-1,0] ]\n",
    "elseif B_split == 'C'\n",
    "    v2 = [ [-1,0,0,1,1,0] , [1,0,0,0,-1,0] , [0,0,0,-1,0,0] ]\n",
    "elseif B_split == 'D'\n",
    "    v2 = [ [-1,0,0,1,1,0] , [1,0,0,-1,0,0] , [0,0,0,0,-1,0] ]\n",
    "end\n",
    "\n",
    "if C_split == 'A'\n",
    "    v3 = [ [0,-1,0,-1,0,1] , [0,1,0,0,0,0], [0,0,0,1,0,-1] ]\n",
    "elseif C_split == 'B'\n",
    "    v3 = [ [0,-1,0,-1,0,1] , [0,1,0,0,0,-1], [0,0,0,1,0,0] ]\n",
    "elseif C_split == 'D'\n",
    "    v3 = [ [0,-1,0,-1,0,1] , [0,1,0,1,0,0], [0,0,0,0,0,-1] ]\n",
    "end\n",
    "\n",
    "if D_split == 'A'\n",
    "    v4 = [ [0,0,-1,0,-1,-1], [0,0,1,0,0,0], [0,0,0,0,1,1] ]\n",
    "elseif D_split == 'B'\n",
    "    v4 = [ [0,0,-1,0,-1,-1], [0,0,1,0,0,1], [0,0,0,0,1,0] ]\n",
    "elseif D_split == 'C'\n",
    "    v4 = [ [0,0,-1,0,-1,-1], [0,0,1,0,1,0], [0,0,0,0,0,1] ]\n",
    "end\n",
    "\n",
    "V = [v1,v2,v3,v4]\n",
    "\n",
    "length([g for g in graph_list if all([v in g[1] for v in V])])"
   ]
  },
  {
   "cell_type": "code",
   "execution_count": 31,
   "metadata": {},
   "outputs": [
    {
     "data": {
      "text/plain": [
       "tikz_string_graph (generic function with 2 methods)"
      ]
     },
     "execution_count": 31,
     "metadata": {},
     "output_type": "execute_result"
    }
   ],
   "source": [
    "function plotting_vertex_source_weights(graph,source_list,path_list,starting_edges)\n",
    "    vertices = graph[1]\n",
    "    connections = graph[2]\n",
    "\n",
    "    weights = zeros(Float64,(length(vertices),length(source_list)))\n",
    "\n",
    "    for i=1:length(path_list)\n",
    "        relevant_vertex_indices = [v_ind for v_ind=1:length(vertices) if vertices[v_ind][1][i] != 0]\n",
    "        total_dist = length(relevant_vertex_indices)+1\n",
    "\n",
    "        start_source_index = findfirst(source_list.==path_list[i][1])\n",
    "        end_source_index = findfirst(source_list.==path_list[i][2])\n",
    "\n",
    "        start_distances = Array{Int}(undef,length(vertices))\n",
    "        end_distances = Array{Int}(undef,length(vertices))\n",
    "\n",
    "        starting_edge = starting_edges[start_source_index]\n",
    "\n",
    "        cur_vertex_ind = [v_ind for v_ind in relevant_vertex_indices if (-starting_edge) in vertices[v_ind]][1]\n",
    "        start_dist = 1\n",
    "        end_dist = total_dist - start_dist\n",
    "        start_distances[cur_vertex_ind] = start_dist\n",
    "        end_distances[cur_vertex_ind] = end_dist\n",
    "        edge_ind = findfirst([e[i] for e in vertices[cur_vertex_ind]].==-1)\n",
    "        while connections[cur_vertex_ind,edge_ind] > 0\n",
    "            cur_vertex_ind = connections[cur_vertex_ind,edge_ind]\n",
    "            start_dist += 1\n",
    "            end_dist -= 1\n",
    "            start_distances[cur_vertex_ind] = start_dist\n",
    "            end_distances[cur_vertex_ind] = end_dist\n",
    "            edge_ind = findfirst([e[i] for e in vertices[cur_vertex_ind]].==-1)\n",
    "        end\n",
    "\n",
    "        for v_ind in relevant_vertex_indices\n",
    "            s = start_distances[v_ind]\n",
    "            e = end_distances[v_ind]\n",
    "            weights[v_ind,start_source_index] += 1/s\n",
    "            weights[v_ind,end_source_index] += 1/e\n",
    "        end\n",
    "    end\n",
    "\n",
    "    for i=1:size(weights)[1]\n",
    "        weights[i,:] *= 1/sum(weights[i,:])\n",
    "    end\n",
    "\n",
    "    return weights\n",
    "end\n",
    "\n",
    "function tikz_string_graph(graph,source_list,path_list,starting_edges,source_positions,p=false)\n",
    "    tikz_str = L\"\"\n",
    "\n",
    "    num_vertices = length(graph[1])\n",
    "    vertex_position_weights = plotting_vertex_source_weights(graph,source_list,path_list,starting_edges)\n",
    "    if p\n",
    "        display(vertex_position_weights)\n",
    "    end\n",
    "    node_positions = Dict{Int,Vector{Float64}}([])\n",
    "    for s=1:length(source_positions)\n",
    "        node_positions[-s] = source_positions[s]\n",
    "        tikz_str *= L\"\\node (%$(-s)) at (%$(source_positions[s][1]),%$(source_positions[s][2])) {\\large %$(source_list[s])};\"\n",
    "    end\n",
    "    for v=1:num_vertices\n",
    "        node_positions[v] = [0.0,0.0]\n",
    "        for s=1:length(source_list)\n",
    "            node_positions[v] += source_positions[s]*vertex_position_weights[v,s]\n",
    "        end\n",
    "        tikz_str *= L\"\\node (%$(v)) at (%$(node_positions[v][1]),%$(node_positions[v][2])) {\\large %$v};\"\n",
    "        #tikz_str *= L\"\\node[inner sep=0pt] (%$(v)) at (%$(node_positions[v][1]),%$(node_positions[v][2])) {};\"\n",
    "    end\n",
    "    vertex_angles = Array{Float64}(undef,num_vertices)\n",
    "\n",
    "    position_list = values(node_positions)\n",
    "    position_set = Set(position_list)\n",
    "    \n",
    "    for v=1:num_vertices\n",
    "        vertex_pos = node_positions[v]\n",
    "        incoming_pos = node_positions[graph[2][v,1]]\n",
    "        dy = vertex_pos[2]-incoming_pos[2]\n",
    "        dx = vertex_pos[1]-incoming_pos[1]\n",
    "        vertex_angles[v] = atan(dy,dx)*180/pi\n",
    "    end\n",
    "    \n",
    "    if p\n",
    "        println(vertex_angles)\n",
    "    end\n",
    "\n",
    "    for v=1:num_vertices\n",
    "        for i=1:3\n",
    "            if (graph[2][v,i] > v)\n",
    "                continue\n",
    "            end\n",
    "            if i==1\n",
    "                out_str = \"out=$(180+vertex_angles[v])\"\n",
    "            else\n",
    "                out_str = \"out=$(vertex_angles[v])\"\n",
    "            end\n",
    "            path_count = sum(abs.(graph[1][v][i]))\n",
    "            paths = join([p[1]*p[2] for p in path_list[graph[1][v][i] .!= 0]],\",\")\n",
    "            loose_str = \"looseness=1\"\n",
    "            out_center = \"($v)\"\n",
    "            in_center = \"($(graph[2][v,i]))\"\n",
    "            if graph[2][v,i]<0\n",
    "                style_str = \"[edge node={node {\\\\tiny $paths}}]\"\n",
    "                edge_str = L\"\\draw %$(out_center) to%$(style_str) %$(in_center);\"\n",
    "                tikz_str *= edge_str\n",
    "            else\n",
    "                in_index = graph[2][v,i]\n",
    "                in_edge = findfirst(graph[2][in_index,:].==v)\n",
    "                if in_edge==1\n",
    "                    in_str = \"in=$(180+vertex_angles[in_index])\"\n",
    "                else\n",
    "                    in_str = \"in=$(vertex_angles[in_index])\"\n",
    "                end\n",
    "                style_str = \"[$out_str, $in_str, $loose_str, edge node={node {\\\\tiny $paths}}]\"\n",
    "                edge_str = L\"\\draw %$(out_center) to%$(style_str) %$(in_center);\"\n",
    "                tikz_str *= edge_str\n",
    "            end\n",
    "        end\n",
    "    end\n",
    "\n",
    "    return tikz_str,length(position_set) != length(position_list)\n",
    "end"
   ]
  },
  {
   "cell_type": "code",
   "execution_count": 32,
   "metadata": {},
   "outputs": [
    {
     "data": {
      "text/plain": [
       "10-element Vector{Array{Vector{Int8}}}:\n",
       " [[1, 1, 1, 0, 0, 0], [-1, 0, -1, 0, 0, 0], [0, -1, 0, 0, 0, 0]]\n",
       " [[1, 0, 1, 0, 0, 0], [-1, 0, 0, 0, 0, 0], [0, 0, -1, 0, 0, 0]]\n",
       " [[1, 0, 0, 0, 0, 1], [-1, 0, 0, 0, 0, 0], [0, 0, 0, 0, 0, -1]]\n",
       " [[-1, 0, 0, 1, 1, 0], [1, 0, 0, 0, -1, 0], [0, 0, 0, -1, 0, 0]]\n",
       " [[-1, 0, 0, 0, 1, 0], [1, 0, 0, 0, 0, 0], [0, 0, 0, 0, -1, 0]]\n",
       " [[-1, 0, 0, 0, 0, -1], [1, 0, 0, 0, 0, 0], [0, 0, 0, 0, 0, 1]]\n",
       " [[0, -1, 0, -1, 0, 1], [0, 1, 0, 0, 0, -1], [0, 0, 0, 1, 0, 0]]\n",
       " [[0, -1, 0, 0, 0, 1], [0, 1, 0, 0, 0, 0], [0, 0, 0, 0, 0, -1]]\n",
       " [[0, 0, -1, 0, -1, -1], [0, 0, 1, 0, 1, 0], [0, 0, 0, 0, 0, 1]]\n",
       " [[0, 0, -1, 0, -1, 0], [0, 0, 1, 0, 0, 0], [0, 0, 0, 0, 1, 0]]"
      ]
     },
     "metadata": {},
     "output_type": "display_data"
    },
    {
     "data": {
      "text/plain": [
       "10×3 Matrix{Int64}:\n",
       " -1   2   8\n",
       "  1   6  10\n",
       "  6   5   9\n",
       " -2   5   7\n",
       "  4   3  10\n",
       "  3   2   8\n",
       " -3   8   4\n",
       "  7   1   6\n",
       " -4  10   3\n",
       "  9   2   5"
      ]
     },
     "metadata": {},
     "output_type": "display_data"
    }
   ],
   "source": [
    "display(graph_list[79][1])\n",
    "display(graph_list[79][2])"
   ]
  },
  {
   "cell_type": "code",
   "execution_count": 33,
   "metadata": {},
   "outputs": [
    {
     "data": {
      "text/plain": [
       "10×4 Matrix{Float64}:\n",
       " 0.8        0.0444444  0.0888889  0.0666667\n",
       " 0.652174   0.130435   0.0        0.217391\n",
       " 0.1875     0.25       0.1875     0.375\n",
       " 0.0425532  0.765957   0.12766    0.0638298\n",
       " 0.130435   0.652174   0.0        0.217391\n",
       " 0.266667   0.2        0.266667   0.266667\n",
       " 0.0826446  0.123967   0.743802   0.0495868\n",
       " 0.285714   0.0        0.571429   0.142857\n",
       " 0.0675676  0.0675676  0.0540541  0.810811\n",
       " 0.2        0.2        0.0        0.6"
      ]
     },
     "metadata": {},
     "output_type": "display_data"
    },
    {
     "name": "stdout",
     "output_type": "stream",
     "text": [
      "[130.6012946450045, 87.316224840531, 45.0, 60.94539590092286, 6.123254618661426, -135.0, -57.38075692880719, -14.945623917125625, -131.98721249581666, -106.48445318953567]\n"
     ]
    },
    {
     "data": {
      "image/svg+xml": "<?xml version=\"1.0\" encoding=\"UTF-8\"?>\n<svg xmlns=\"http://www.w3.org/2000/svg\" xmlns:xlink=\"http://www.w3.org/1999/xlink\" width=\"298.803pt\" height=\"298.707pt\" viewBox=\"0 0 298.803 298.707\" version=\"1.2\">\n<defs>\n<g>\n<symbol overflow=\"visible\" id=\"glyph-1672690343052000-0-0\">\n<path style=\"stroke:none;\" d=\"\"/>\n</symbol>\n<symbol overflow=\"visible\" id=\"glyph-1672690343052000-0-1\">\n<path style=\"stroke:none;\" d=\"M 8.375 0 L 8.375 -0.34375 C 7.609375 -0.34375 7.390625 -0.34375 7.21875 -0.828125 L 4.625 -8.3125 C 4.578125 -8.453125 4.546875 -8.53125 4.375 -8.53125 C 4.21875 -8.53125 4.1875 -8.484375 4.125 -8.296875 L 1.640625 -1.15625 C 1.46875 -0.671875 1.140625 -0.359375 0.375 -0.34375 L 0.375 0 L 1.515625 -0.03125 C 1.84375 -0.03125 2.421875 -0.03125 2.734375 0 L 2.734375 -0.34375 C 2.234375 -0.359375 1.9375 -0.609375 1.9375 -0.9375 C 1.9375 -1.015625 1.9375 -1.03125 2 -1.1875 L 2.546875 -2.78125 L 5.546875 -2.78125 L 6.203125 -0.90625 C 6.265625 -0.765625 6.265625 -0.734375 6.265625 -0.703125 C 6.265625 -0.34375 5.65625 -0.34375 5.359375 -0.34375 L 5.359375 0 C 5.640625 -0.03125 6.578125 -0.03125 6.90625 -0.03125 C 7.25 -0.03125 8.109375 -0.03125 8.375 0 Z M 5.4375 -3.125 L 2.65625 -3.125 L 4.046875 -7.109375 Z M 5.4375 -3.125 \"/>\n</symbol>\n<symbol overflow=\"visible\" id=\"glyph-1672690343052000-0-2\">\n<path style=\"stroke:none;\" d=\"M 7.609375 -2.1875 C 7.609375 -3.15625 6.75 -4.109375 5.328125 -4.265625 C 6.453125 -4.484375 7.28125 -5.234375 7.28125 -6.140625 C 7.28125 -7.15625 6.25 -8.15625 4.671875 -8.15625 L 0.515625 -8.15625 L 0.515625 -7.8125 L 0.75 -7.8125 C 1.609375 -7.8125 1.640625 -7.6875 1.640625 -7.25 L 1.640625 -0.90625 C 1.640625 -0.46875 1.609375 -0.34375 0.75 -0.34375 L 0.515625 -0.34375 L 0.515625 0 L 5 0 C 6.546875 0 7.609375 -1.03125 7.609375 -2.1875 Z M 6.234375 -6.140625 C 6.234375 -5.34375 5.609375 -4.359375 4.28125 -4.359375 L 2.546875 -4.359375 L 2.546875 -7.328125 C 2.546875 -7.71875 2.578125 -7.8125 3.109375 -7.8125 L 4.609375 -7.8125 C 5.796875 -7.8125 6.234375 -6.78125 6.234375 -6.140625 Z M 6.53125 -2.203125 C 6.53125 -1.234375 5.796875 -0.34375 4.625 -0.34375 L 3.109375 -0.34375 C 2.578125 -0.34375 2.546875 -0.4375 2.546875 -0.828125 L 2.546875 -4.125 L 4.78125 -4.125 C 5.9375 -4.125 6.53125 -3.109375 6.53125 -2.203125 Z M 6.53125 -2.203125 \"/>\n</symbol>\n<symbol overflow=\"visible\" id=\"glyph-1672690343052000-0-3\">\n<path style=\"stroke:none;\" d=\"M 7.78125 -2.765625 C 7.78125 -2.90625 7.78125 -2.96875 7.65625 -2.96875 C 7.53125 -2.96875 7.515625 -2.90625 7.515625 -2.828125 C 7.40625 -0.9375 6.03125 -0.09375 4.875 -0.09375 C 4.03125 -0.09375 1.75 -0.59375 1.75 -4.078125 C 1.75 -7.53125 4 -8.0625 4.859375 -8.0625 C 6.109375 -8.0625 7.203125 -7 7.453125 -5.203125 C 7.46875 -5.0625 7.46875 -5.03125 7.609375 -5.03125 C 7.78125 -5.03125 7.78125 -5.0625 7.78125 -5.296875 L 7.78125 -8.125 C 7.78125 -8.34375 7.78125 -8.40625 7.65625 -8.40625 C 7.59375 -8.40625 7.578125 -8.375 7.515625 -8.265625 L 6.921875 -7.3125 C 6.390625 -7.984375 5.578125 -8.40625 4.71875 -8.40625 C 2.53125 -8.40625 0.640625 -6.515625 0.640625 -4.078125 C 0.640625 -1.609375 2.546875 0.25 4.71875 0.25 C 6.671875 0.25 7.78125 -1.453125 7.78125 -2.765625 Z M 7.78125 -2.765625 \"/>\n</symbol>\n<symbol overflow=\"visible\" id=\"glyph-1672690343052000-0-4\">\n<path style=\"stroke:none;\" d=\"M 8.265625 -4 C 8.265625 -6.296875 6.65625 -8.15625 4.671875 -8.15625 L 0.5 -8.15625 L 0.5 -7.8125 L 0.734375 -7.8125 C 1.59375 -7.8125 1.640625 -7.6875 1.640625 -7.25 L 1.640625 -0.90625 C 1.640625 -0.46875 1.59375 -0.34375 0.734375 -0.34375 L 0.5 -0.34375 L 0.5 0 L 4.671875 0 C 6.671875 0 8.265625 -1.796875 8.265625 -4 Z M 7.1875 -4.015625 C 7.1875 -3.34375 7.171875 -2.21875 6.5 -1.34375 C 6.09375 -0.828125 5.390625 -0.34375 4.375 -0.34375 L 3.125 -0.34375 C 2.609375 -0.34375 2.578125 -0.4375 2.578125 -0.828125 L 2.578125 -7.328125 C 2.578125 -7.71875 2.609375 -7.8125 3.125 -7.8125 L 4.375 -7.8125 C 5.375 -7.8125 6.15625 -7.328125 6.65625 -6.546875 C 7.1875 -5.6875 7.1875 -4.484375 7.1875 -4.015625 Z M 7.1875 -4.015625 \"/>\n</symbol>\n<symbol overflow=\"visible\" id=\"glyph-1672690343052000-0-5\">\n<path style=\"stroke:none;\" d=\"M 4.890625 0 L 4.890625 -0.34375 L 4.53125 -0.34375 C 3.46875 -0.34375 3.4375 -0.484375 3.4375 -0.921875 L 3.4375 -7.65625 C 3.4375 -7.921875 3.4375 -7.9375 3.203125 -7.9375 C 2.90625 -7.609375 2.3125 -7.171875 1.09375 -7.171875 L 1.09375 -6.828125 C 1.359375 -6.828125 1.953125 -6.828125 2.609375 -7.140625 L 2.609375 -0.921875 C 2.609375 -0.484375 2.578125 -0.34375 1.53125 -0.34375 L 1.15625 -0.34375 L 1.15625 0 C 1.484375 -0.03125 2.640625 -0.03125 3.03125 -0.03125 C 3.421875 -0.03125 4.578125 -0.03125 4.890625 0 Z M 4.890625 0 \"/>\n</symbol>\n<symbol overflow=\"visible\" id=\"glyph-1672690343052000-0-6\">\n<path style=\"stroke:none;\" d=\"M 5.25 -2 L 4.984375 -2 C 4.953125 -1.796875 4.859375 -1.140625 4.734375 -0.953125 C 4.65625 -0.84375 3.96875 -0.84375 3.609375 -0.84375 L 1.40625 -0.84375 C 1.734375 -1.125 2.453125 -1.890625 2.765625 -2.171875 C 4.578125 -3.84375 5.25 -4.46875 5.25 -5.640625 C 5.25 -7.015625 4.171875 -7.9375 2.78125 -7.9375 C 1.390625 -7.9375 0.578125 -6.75 0.578125 -5.734375 C 0.578125 -5.125 1.109375 -5.125 1.140625 -5.125 C 1.390625 -5.125 1.703125 -5.296875 1.703125 -5.6875 C 1.703125 -6.015625 1.484375 -6.25 1.140625 -6.25 C 1.03125 -6.25 1.015625 -6.25 0.984375 -6.234375 C 1.203125 -7.046875 1.84375 -7.59375 2.625 -7.59375 C 3.640625 -7.59375 4.265625 -6.75 4.265625 -5.640625 C 4.265625 -4.625 3.671875 -3.75 3 -2.984375 L 0.578125 -0.28125 L 0.578125 0 L 4.9375 0 Z M 5.25 -2 \"/>\n</symbol>\n<symbol overflow=\"visible\" id=\"glyph-1672690343052000-0-7\">\n<path style=\"stroke:none;\" d=\"M 5.34375 -2.046875 C 5.34375 -3.140625 4.46875 -4 3.3125 -4.203125 C 4.359375 -4.5 5.03125 -5.375 5.03125 -6.296875 C 5.03125 -7.25 4.046875 -7.9375 2.890625 -7.9375 C 1.6875 -7.9375 0.8125 -7.203125 0.8125 -6.34375 C 0.8125 -5.859375 1.1875 -5.765625 1.359375 -5.765625 C 1.609375 -5.765625 1.890625 -5.9375 1.890625 -6.296875 C 1.890625 -6.6875 1.609375 -6.859375 1.34375 -6.859375 C 1.28125 -6.859375 1.25 -6.859375 1.21875 -6.84375 C 1.671875 -7.65625 2.796875 -7.65625 2.859375 -7.65625 C 3.25 -7.65625 4.015625 -7.46875 4.015625 -6.296875 C 4.015625 -6.078125 3.984375 -5.40625 3.640625 -4.890625 C 3.28125 -4.375 2.875 -4.328125 2.546875 -4.328125 L 2.203125 -4.28125 C 2 -4.28125 1.953125 -4.265625 1.953125 -4.15625 C 1.953125 -4.03125 2 -4.03125 2.21875 -4.03125 L 2.765625 -4.03125 C 3.78125 -4.03125 4.234375 -3.203125 4.234375 -2.046875 C 4.234375 -0.484375 3.421875 -0.078125 2.84375 -0.078125 C 2.265625 -0.078125 1.296875 -0.34375 0.9375 -1.140625 C 1.328125 -1.078125 1.671875 -1.296875 1.671875 -1.71875 C 1.671875 -2.0625 1.421875 -2.296875 1.09375 -2.296875 C 0.796875 -2.296875 0.484375 -2.140625 0.484375 -1.6875 C 0.484375 -0.625 1.546875 0.25 2.875 0.25 C 4.296875 0.25 5.34375 -0.828125 5.34375 -2.046875 Z M 5.34375 -2.046875 \"/>\n</symbol>\n<symbol overflow=\"visible\" id=\"glyph-1672690343052000-0-8\">\n<path style=\"stroke:none;\" d=\"M 5.515625 -2 L 5.515625 -2.34375 L 4.3125 -2.34375 L 4.3125 -7.765625 C 4.3125 -8 4.3125 -8.0625 4.140625 -8.0625 C 4.046875 -8.0625 4.015625 -8.0625 3.921875 -7.921875 L 0.328125 -2.34375 L 0.328125 -2 L 3.46875 -2 L 3.46875 -0.90625 C 3.46875 -0.46875 3.4375 -0.34375 2.5625 -0.34375 L 2.328125 -0.34375 L 2.328125 0 C 2.609375 -0.03125 3.546875 -0.03125 3.875 -0.03125 C 4.21875 -0.03125 5.171875 -0.03125 5.4375 0 L 5.4375 -0.34375 L 5.203125 -0.34375 C 4.34375 -0.34375 4.3125 -0.46875 4.3125 -0.90625 L 4.3125 -2 Z M 3.515625 -2.34375 L 0.625 -2.34375 L 3.515625 -6.84375 Z M 3.515625 -2.34375 \"/>\n</symbol>\n<symbol overflow=\"visible\" id=\"glyph-1672690343052000-0-9\">\n<path style=\"stroke:none;\" d=\"M 5.25 -2.40625 C 5.25 -3.8125 4.296875 -5 3.046875 -5 C 2.359375 -5 1.84375 -4.703125 1.53125 -4.375 L 1.53125 -6.84375 C 2.046875 -6.671875 2.453125 -6.65625 2.59375 -6.65625 C 3.9375 -6.65625 4.796875 -7.65625 4.796875 -7.8125 C 4.796875 -7.859375 4.78125 -7.921875 4.703125 -7.921875 C 4.703125 -7.921875 4.65625 -7.921875 4.546875 -7.875 C 3.875 -7.59375 3.3125 -7.5625 3 -7.5625 C 2.203125 -7.5625 1.640625 -7.796875 1.421875 -7.890625 C 1.34375 -7.921875 1.296875 -7.921875 1.296875 -7.921875 C 1.203125 -7.921875 1.203125 -7.859375 1.203125 -7.65625 L 1.203125 -4.125 C 1.203125 -3.90625 1.203125 -3.828125 1.34375 -3.828125 C 1.40625 -3.828125 1.421875 -3.84375 1.546875 -3.984375 C 1.875 -4.484375 2.4375 -4.765625 3.03125 -4.765625 C 3.671875 -4.765625 3.96875 -4.171875 4.078125 -3.96875 C 4.28125 -3.515625 4.28125 -2.921875 4.28125 -2.46875 C 4.28125 -2.015625 4.28125 -1.34375 3.953125 -0.796875 C 3.6875 -0.375 3.21875 -0.078125 2.703125 -0.078125 C 1.90625 -0.078125 1.140625 -0.609375 0.921875 -1.484375 C 0.984375 -1.453125 1.046875 -1.4375 1.109375 -1.4375 C 1.3125 -1.4375 1.640625 -1.5625 1.640625 -1.96875 C 1.640625 -2.296875 1.40625 -2.5 1.109375 -2.5 C 0.890625 -2.5 0.578125 -2.390625 0.578125 -1.921875 C 0.578125 -0.90625 1.390625 0.25 2.71875 0.25 C 4.078125 0.25 5.25 -0.890625 5.25 -2.40625 Z M 5.25 -2.40625 \"/>\n</symbol>\n<symbol overflow=\"visible\" id=\"glyph-1672690343052000-0-10\">\n<path style=\"stroke:none;\" d=\"M 5.34375 -2.4375 C 5.34375 -4.015625 4.234375 -5.078125 3.046875 -5.078125 C 1.984375 -5.078125 1.59375 -4.171875 1.46875 -3.828125 L 1.46875 -4.15625 C 1.46875 -7.171875 2.9375 -7.65625 3.578125 -7.65625 C 4.015625 -7.65625 4.4375 -7.515625 4.671875 -7.15625 C 4.53125 -7.15625 4.078125 -7.15625 4.078125 -6.671875 C 4.078125 -6.40625 4.25 -6.1875 4.5625 -6.1875 C 4.859375 -6.1875 5.0625 -6.359375 5.0625 -6.703125 C 5.0625 -7.328125 4.609375 -7.9375 3.5625 -7.9375 C 2.0625 -7.9375 0.484375 -6.40625 0.484375 -3.765625 C 0.484375 -0.484375 1.921875 0.25 2.9375 0.25 C 4.234375 0.25 5.34375 -0.890625 5.34375 -2.4375 Z M 4.375 -2.453125 C 4.375 -1.84375 4.375 -1.296875 4.140625 -0.84375 C 3.84375 -0.28125 3.421875 -0.078125 2.9375 -0.078125 C 2.1875 -0.078125 1.828125 -0.734375 1.71875 -0.984375 C 1.609375 -1.296875 1.5 -1.890625 1.5 -2.71875 C 1.5 -3.671875 1.921875 -4.84375 3 -4.84375 C 3.65625 -4.84375 4 -4.40625 4.171875 -4 C 4.375 -3.5625 4.375 -2.953125 4.375 -2.453125 Z M 4.375 -2.453125 \"/>\n</symbol>\n<symbol overflow=\"visible\" id=\"glyph-1672690343052000-0-11\">\n<path style=\"stroke:none;\" d=\"M 5.671875 -7.40625 L 5.671875 -7.6875 L 2.796875 -7.6875 C 1.34375 -7.6875 1.328125 -7.84375 1.28125 -8.0625 L 1.015625 -8.0625 L 0.640625 -5.6875 L 0.90625 -5.6875 C 0.9375 -5.890625 1.046875 -6.640625 1.203125 -6.765625 C 1.296875 -6.84375 2.203125 -6.84375 2.359375 -6.84375 L 4.890625 -6.84375 L 3.625 -5.03125 C 3.3125 -4.5625 2.09375 -2.609375 2.09375 -0.359375 C 2.09375 -0.234375 2.09375 0.25 2.59375 0.25 C 3.09375 0.25 3.09375 -0.21875 3.09375 -0.375 L 3.09375 -0.96875 C 3.09375 -2.75 3.375 -4.125 3.9375 -4.9375 Z M 5.671875 -7.40625 \"/>\n</symbol>\n<symbol overflow=\"visible\" id=\"glyph-1672690343052000-0-12\">\n<path style=\"stroke:none;\" d=\"M 5.34375 -1.984375 C 5.34375 -3.203125 4.484375 -3.734375 3.5625 -4.3125 C 4.15625 -4.625 5.03125 -5.1875 5.03125 -6.1875 C 5.03125 -7.21875 4.015625 -7.9375 2.921875 -7.9375 C 1.75 -7.9375 0.8125 -7.0625 0.8125 -5.984375 C 0.8125 -5.578125 0.9375 -5.171875 1.265625 -4.765625 C 1.390625 -4.609375 1.40625 -4.59375 2.25 -4.015625 C 1.09375 -3.46875 0.484375 -2.671875 0.484375 -1.796875 C 0.484375 -0.53125 1.6875 0.25 2.90625 0.25 C 4.234375 0.25 5.34375 -0.734375 5.34375 -1.984375 Z M 4.53125 -6.171875 C 4.53125 -5.4375 4.015625 -4.859375 3.3125 -4.484375 L 1.9375 -5.390625 C 1.78125 -5.484375 1.296875 -5.796875 1.296875 -6.390625 C 1.296875 -7.15625 2.109375 -7.65625 2.90625 -7.65625 C 3.765625 -7.65625 4.53125 -7.03125 4.53125 -6.171875 Z M 4.796875 -1.59375 C 4.796875 -0.6875 3.875 -0.078125 2.921875 -0.078125 C 1.90625 -0.078125 1.03125 -0.8125 1.03125 -1.796875 C 1.03125 -2.734375 1.71875 -3.484375 2.5 -3.84375 L 3.9375 -2.90625 C 4.25 -2.703125 4.796875 -2.328125 4.796875 -1.59375 Z M 4.796875 -1.59375 \"/>\n</symbol>\n<symbol overflow=\"visible\" id=\"glyph-1672690343052000-0-13\">\n<path style=\"stroke:none;\" d=\"M 5.34375 -3.921875 C 5.34375 -7.140625 4.015625 -7.9375 2.953125 -7.9375 C 1.640625 -7.9375 0.484375 -6.84375 0.484375 -5.265625 C 0.484375 -3.6875 1.59375 -2.609375 2.796875 -2.609375 C 3.671875 -2.609375 4.125 -3.265625 4.375 -3.875 L 4.375 -3.46875 C 4.375 -0.65625 3.109375 -0.078125 2.40625 -0.078125 C 2.109375 -0.078125 1.484375 -0.109375 1.1875 -0.53125 L 1.25 -0.53125 C 1.34375 -0.5 1.765625 -0.578125 1.765625 -1.015625 C 1.765625 -1.28125 1.59375 -1.5 1.28125 -1.5 C 0.96875 -1.5 0.78125 -1.296875 0.78125 -0.984375 C 0.78125 -0.25 1.375 0.25 2.40625 0.25 C 3.90625 0.25 5.34375 -1.34375 5.34375 -3.921875 Z M 4.34375 -5 C 4.34375 -4 3.890625 -2.859375 2.84375 -2.859375 C 2.09375 -2.859375 1.765625 -3.46875 1.65625 -3.6875 C 1.46875 -4.140625 1.46875 -4.71875 1.46875 -5.25 C 1.46875 -5.921875 1.46875 -6.5 1.78125 -6.984375 C 2 -7.3125 2.3125 -7.65625 2.953125 -7.65625 C 3.640625 -7.65625 3.984375 -7.0625 4.109375 -6.78125 C 4.34375 -6.203125 4.34375 -5.1875 4.34375 -5 Z M 4.34375 -5 \"/>\n</symbol>\n<symbol overflow=\"visible\" id=\"glyph-1672690343052000-0-14\">\n<path style=\"stroke:none;\" d=\"M 5.34375 -3.8125 C 5.34375 -4.8125 5.28125 -5.78125 4.859375 -6.6875 C 4.375 -7.671875 3.515625 -7.9375 2.921875 -7.9375 C 2.234375 -7.9375 1.390625 -7.59375 0.9375 -6.59375 C 0.609375 -5.84375 0.484375 -5.109375 0.484375 -3.8125 C 0.484375 -2.65625 0.578125 -1.796875 1 -0.9375 C 1.46875 -0.03125 2.296875 0.25 2.90625 0.25 C 3.953125 0.25 4.546875 -0.375 4.890625 -1.0625 C 5.328125 -1.953125 5.34375 -3.125 5.34375 -3.8125 Z M 4.4375 -3.96875 C 4.4375 -3.15625 4.4375 -2.25 4.3125 -1.53125 C 4.078125 -0.21875 3.328125 0.015625 2.90625 0.015625 C 2.53125 0.015625 1.75 -0.203125 1.53125 -1.5 C 1.390625 -2.21875 1.390625 -3.125 1.390625 -3.96875 C 1.390625 -4.9375 1.390625 -5.828125 1.59375 -6.53125 C 1.796875 -7.328125 2.40625 -7.703125 2.90625 -7.703125 C 3.359375 -7.703125 4.0625 -7.421875 4.28125 -6.40625 C 4.4375 -5.71875 4.4375 -4.78125 4.4375 -3.96875 Z M 4.4375 -3.96875 \"/>\n</symbol>\n<symbol overflow=\"visible\" id=\"glyph-1672690343052000-1-0\">\n<path style=\"stroke:none;\" d=\"\"/>\n</symbol>\n<symbol overflow=\"visible\" id=\"glyph-1672690343052000-1-1\">\n<path style=\"stroke:none;\" d=\"M 4.515625 0 L 4.515625 -0.21875 L 4.390625 -0.21875 C 4.078125 -0.21875 4 -0.25 3.9375 -0.375 L 2.609375 -3.421875 C 2.5625 -3.515625 2.546875 -3.5625 2.4375 -3.5625 C 2.34375 -3.5625 2.3125 -3.53125 2.265625 -3.4375 L 0.984375 -0.515625 C 0.875 -0.265625 0.59375 -0.21875 0.359375 -0.21875 L 0.359375 0 C 0.53125 -0.015625 0.75 -0.015625 0.921875 -0.015625 C 1 -0.015625 1.34375 -0.015625 1.578125 0 L 1.578125 -0.21875 C 1.296875 -0.21875 1.203125 -0.34375 1.203125 -0.4375 C 1.203125 -0.46875 1.203125 -0.484375 1.21875 -0.515625 L 1.484375 -1.109375 L 3.078125 -1.109375 L 3.375 -0.40625 C 3.40625 -0.359375 3.40625 -0.34375 3.40625 -0.34375 C 3.40625 -0.21875 3.125 -0.21875 2.984375 -0.21875 L 2.984375 0 L 3.78125 -0.015625 Z M 2.984375 -1.328125 L 1.578125 -1.328125 L 2.28125 -2.921875 Z M 2.984375 -1.328125 \"/>\n</symbol>\n<symbol overflow=\"visible\" id=\"glyph-1672690343052000-1-2\">\n<path style=\"stroke:none;\" d=\"M 4.15625 -0.921875 C 4.15625 -1.265625 3.796875 -1.671875 3 -1.78125 C 3.5 -1.859375 3.984375 -2.140625 3.984375 -2.546875 C 3.984375 -3 3.375 -3.390625 2.625 -3.390625 L 0.4375 -3.390625 L 0.4375 -3.171875 L 0.578125 -3.171875 C 0.984375 -3.171875 0.984375 -3.125 0.984375 -2.96875 L 0.984375 -0.421875 C 0.984375 -0.265625 0.984375 -0.21875 0.578125 -0.21875 L 0.4375 -0.21875 L 0.4375 0 L 2.796875 0 C 3.5625 0 4.15625 -0.421875 4.15625 -0.921875 Z M 3.4375 -2.53125 C 3.4375 -2.171875 3 -1.84375 2.453125 -1.84375 L 1.46875 -1.84375 L 1.46875 -2.984375 C 1.46875 -3.140625 1.46875 -3.171875 1.71875 -3.171875 L 2.59375 -3.171875 C 3.125 -3.171875 3.4375 -2.84375 3.4375 -2.53125 Z M 3.59375 -0.921875 C 3.59375 -0.546875 3.1875 -0.21875 2.609375 -0.21875 L 1.71875 -0.21875 C 1.46875 -0.21875 1.46875 -0.25 1.46875 -0.40625 L 1.46875 -1.6875 L 2.640625 -1.6875 C 3.3125 -1.6875 3.59375 -1.25 3.59375 -0.921875 Z M 3.59375 -0.921875 \"/>\n</symbol>\n<symbol overflow=\"visible\" id=\"glyph-1672690343052000-1-3\">\n<path style=\"stroke:none;\" d=\"M 1.375 -0.046875 C 1.375 -0.359375 1.234375 -0.609375 1 -0.609375 C 0.8125 -0.609375 0.703125 -0.453125 0.703125 -0.296875 C 0.703125 -0.15625 0.8125 0 1 0 C 1.125 0 1.203125 -0.078125 1.203125 -0.078125 C 1.203125 0.28125 1.0625 0.578125 0.796875 0.8125 C 0.75 0.84375 0.75 0.84375 0.75 0.875 C 0.75 0.921875 0.796875 0.96875 0.828125 0.96875 C 0.90625 0.96875 1.375 0.578125 1.375 -0.046875 Z M 1.375 -0.046875 \"/>\n</symbol>\n<symbol overflow=\"visible\" id=\"glyph-1672690343052000-1-4\">\n<path style=\"stroke:none;\" d=\"M 4.265625 -1.15625 C 4.265625 -1.234375 4.25 -1.265625 4.171875 -1.265625 C 4.109375 -1.265625 4.0625 -1.265625 4.0625 -1.1875 C 4.03125 -0.421875 3.296875 -0.109375 2.71875 -0.109375 C 2.015625 -0.109375 1.0625 -0.5 1.0625 -1.703125 C 1.0625 -2.875 2 -3.28125 2.71875 -3.28125 C 3.171875 -3.28125 3.890625 -3.046875 4.046875 -2.125 C 4.0625 -2.0625 4.125 -2.0625 4.15625 -2.0625 C 4.265625 -2.0625 4.265625 -2.09375 4.265625 -2.203125 L 4.265625 -3.359375 C 4.265625 -3.453125 4.265625 -3.5 4.1875 -3.5 C 4.140625 -3.5 4.125 -3.484375 4.09375 -3.4375 L 3.8125 -3.0625 C 3.5 -3.3125 3.125 -3.5 2.625 -3.5 C 1.421875 -3.5 0.484375 -2.671875 0.484375 -1.703125 C 0.484375 -0.71875 1.421875 0.109375 2.640625 0.109375 C 3.59375 0.109375 4.265625 -0.5 4.265625 -1.15625 Z M 4.265625 -1.15625 \"/>\n</symbol>\n<symbol overflow=\"visible\" id=\"glyph-1672690343052000-1-5\">\n<path style=\"stroke:none;\" d=\"M 4.5 -1.671875 C 4.5 -2.59375 3.671875 -3.390625 2.609375 -3.390625 L 0.421875 -3.390625 L 0.421875 -3.171875 C 0.546875 -3.171875 0.6875 -3.171875 0.796875 -3.171875 C 0.96875 -3.15625 0.96875 -3.078125 0.96875 -2.96875 L 0.96875 -0.4375 C 0.96875 -0.3125 0.96875 -0.25 0.796875 -0.234375 C 0.6875 -0.21875 0.53125 -0.21875 0.421875 -0.21875 L 0.421875 0 L 2.609375 0 C 3.65625 0 4.5 -0.75 4.5 -1.671875 Z M 3.9375 -1.671875 C 3.9375 -1.234375 3.84375 -0.859375 3.5625 -0.59375 C 3.390625 -0.4375 3.046875 -0.21875 2.46875 -0.21875 L 1.734375 -0.21875 C 1.484375 -0.21875 1.484375 -0.25 1.484375 -0.421875 L 1.484375 -2.96875 C 1.484375 -3.140625 1.484375 -3.171875 1.734375 -3.171875 L 2.46875 -3.171875 C 3.0625 -3.171875 3.40625 -2.921875 3.546875 -2.796875 C 3.71875 -2.609375 3.9375 -2.328125 3.9375 -1.671875 Z M 3.9375 -1.671875 \"/>\n</symbol>\n</g>\n</defs>\n<g id=\"surface1\">\n<g style=\"fill:rgb(0%,0%,0%);fill-opacity:1;\">\n  <use xlink:href=\"#glyph-1672690343052000-0-1\" x=\"286.391128\" y=\"295.096541\"/>\n</g>\n<g style=\"fill:rgb(0%,0%,0%);fill-opacity:1;\">\n  <use xlink:href=\"#glyph-1672690343052000-0-2\" x=\"3.448664\" y=\"294.911723\"/>\n</g>\n<g style=\"fill:rgb(0%,0%,0%);fill-opacity:1;\">\n  <use xlink:href=\"#glyph-1672690343052000-0-3\" x=\"3.365746\" y=\"11.725499\"/>\n</g>\n<g style=\"fill:rgb(0%,0%,0%);fill-opacity:1;\">\n  <use xlink:href=\"#glyph-1672690343052000-0-4\" x=\"286.30721\" y=\"11.725499\"/>\n</g>\n<g style=\"fill:rgb(0%,0%,0%);fill-opacity:1;\">\n  <use xlink:href=\"#glyph-1672690343052000-0-5\" x=\"250.089735\" y=\"250.753038\"/>\n</g>\n<g style=\"fill:rgb(0%,0%,0%);fill-opacity:1;\">\n  <use xlink:href=\"#glyph-1672690343052000-0-6\" x=\"250.91093\" y=\"233.242214\"/>\n</g>\n<g style=\"fill:rgb(0%,0%,0%);fill-opacity:1;\">\n  <use xlink:href=\"#glyph-1672690343052000-0-7\" x=\"163.953226\" y=\"135.3862\"/>\n</g>\n<g style=\"fill:rgb(0%,0%,0%);fill-opacity:1;\">\n  <use xlink:href=\"#glyph-1672690343052000-0-8\" x=\"34.786925\" y=\"240.636961\"/>\n</g>\n<g style=\"fill:rgb(0%,0%,0%);fill-opacity:1;\">\n  <use xlink:href=\"#glyph-1672690343052000-0-9\" x=\"103.160857\" y=\"233.110343\"/>\n</g>\n<g style=\"fill:rgb(0%,0%,0%);fill-opacity:1;\">\n  <use xlink:href=\"#glyph-1672690343052000-0-10\" x=\"155.694327\" y=\"143.646098\"/>\n</g>\n<g style=\"fill:rgb(0%,0%,0%);fill-opacity:1;\">\n  <use xlink:href=\"#glyph-1672690343052000-0-11\" x=\"42.106745\" y=\"70.067271\"/>\n</g>\n<g style=\"fill:rgb(0%,0%,0%);fill-opacity:1;\">\n  <use xlink:href=\"#glyph-1672690343052000-0-12\" x=\"126.026428\" y=\"92.402363\"/>\n</g>\n<g style=\"fill:rgb(0%,0%,0%);fill-opacity:1;\">\n  <use xlink:href=\"#glyph-1672690343052000-0-13\" x=\"253.406482\" y=\"49.76119\"/>\n</g>\n<g style=\"fill:rgb(0%,0%,0%);fill-opacity:1;\">\n  <use xlink:href=\"#glyph-1672690343052000-0-5\" x=\"228.284124\" y=\"124.766617\"/>\n  <use xlink:href=\"#glyph-1672690343052000-0-14\" x=\"234.136417\" y=\"124.766617\"/>\n</g>\n<path style=\"fill:none;stroke-width:0.3985;stroke-linecap:butt;stroke-linejoin:miter;stroke:rgb(0%,0%,0%);stroke-opacity:1;stroke-miterlimit:10;\" d=\"M 252.096934 36.599057 L 276.796919 7.789576 \" transform=\"matrix(0.99902,0,0,-0.99902,7.587604,290.832724)\"/>\n<g style=\"fill:rgb(0%,0%,0%);fill-opacity:1;\">\n  <use xlink:href=\"#glyph-1672690343052000-1-1\" x=\"255.321604\" y=\"269.960198\"/>\n  <use xlink:href=\"#glyph-1672690343052000-1-2\" x=\"260.20349\" y=\"269.960198\"/>\n  <use xlink:href=\"#glyph-1672690343052000-1-3\" x=\"264.85646\" y=\"269.960198\"/>\n  <use xlink:href=\"#glyph-1672690343052000-1-1\" x=\"266.861965\" y=\"269.960198\"/>\n</g>\n<g style=\"fill:rgb(0%,0%,0%);fill-opacity:1;\">\n  <use xlink:href=\"#glyph-1672690343052000-1-4\" x=\"271.569676\" y=\"269.960198\"/>\n  <use xlink:href=\"#glyph-1672690343052000-1-3\" x=\"276.337104\" y=\"269.960198\"/>\n  <use xlink:href=\"#glyph-1672690343052000-1-1\" x=\"278.342609\" y=\"269.960198\"/>\n  <use xlink:href=\"#glyph-1672690343052000-1-5\" x=\"283.224495\" y=\"269.960198\"/>\n</g>\n<path style=\"fill:none;stroke-width:0.3985;stroke-linecap:butt;stroke-linejoin:miter;stroke:rgb(0%,0%,0%);stroke-opacity:1;stroke-miterlimit:10;\" d=\"M 246.114509 54.127953 C 245.969836 51.324425 237.55534 53.721305 239.353978 51.59031 \" transform=\"matrix(0.99902,0,0,-0.99902,7.587604,290.832724)\"/>\n<g style=\"fill:rgb(0%,0%,0%);fill-opacity:1;\">\n  <use xlink:href=\"#glyph-1672690343052000-1-1\" x=\"238.643963\" y=\"239.577\"/>\n  <use xlink:href=\"#glyph-1672690343052000-1-2\" x=\"243.525849\" y=\"239.577\"/>\n  <use xlink:href=\"#glyph-1672690343052000-1-3\" x=\"248.178819\" y=\"239.577\"/>\n  <use xlink:href=\"#glyph-1672690343052000-1-1\" x=\"250.184324\" y=\"239.577\"/>\n  <use xlink:href=\"#glyph-1672690343052000-1-5\" x=\"255.06621\" y=\"239.577\"/>\n</g>\n<path style=\"fill:none;stroke-width:0.3985;stroke-linecap:butt;stroke-linejoin:miter;stroke:rgb(0%,0%,0%);stroke-opacity:1;stroke-miterlimit:10;\" d=\"M 25.961273 46.726169 L 4.22122 7.601892 \" transform=\"matrix(0.99902,0,0,-0.99902,7.587604,290.832724)\"/>\n<g style=\"fill:rgb(0%,0%,0%);fill-opacity:1;\">\n  <use xlink:href=\"#glyph-1672690343052000-1-1\" x=\"6.354814\" y=\"264.994069\"/>\n  <use xlink:href=\"#glyph-1672690343052000-1-2\" x=\"11.2367\" y=\"264.994069\"/>\n  <use xlink:href=\"#glyph-1672690343052000-1-3\" x=\"15.88967\" y=\"264.994069\"/>\n  <use xlink:href=\"#glyph-1672690343052000-1-2\" x=\"17.895175\" y=\"264.994069\"/>\n  <use xlink:href=\"#glyph-1672690343052000-1-4\" x=\"22.548145\" y=\"264.994069\"/>\n  <use xlink:href=\"#glyph-1672690343052000-1-3\" x=\"27.315573\" y=\"264.994069\"/>\n  <use xlink:href=\"#glyph-1672690343052000-1-2\" x=\"29.321078\" y=\"264.994069\"/>\n  <use xlink:href=\"#glyph-1672690343052000-1-5\" x=\"33.974048\" y=\"264.994069\"/>\n</g>\n<path style=\"fill:none;stroke-width:0.3985;stroke-linecap:butt;stroke-linejoin:miter;stroke:rgb(0%,0%,0%);stroke-opacity:1;stroke-miterlimit:10;\" d=\"M 92.147225 60.935405 C 69.715087 58.538525 45.476491 81.557176 34.399229 61.834724 \" transform=\"matrix(0.99902,0,0,-0.99902,7.587604,290.832724)\"/>\n<g style=\"fill:rgb(0%,0%,0%);fill-opacity:1;\">\n  <use xlink:href=\"#glyph-1672690343052000-1-1\" x=\"55.949167\" y=\"224.31597\"/>\n  <use xlink:href=\"#glyph-1672690343052000-1-2\" x=\"60.831053\" y=\"224.31597\"/>\n  <use xlink:href=\"#glyph-1672690343052000-1-3\" x=\"65.484023\" y=\"224.31597\"/>\n  <use xlink:href=\"#glyph-1672690343052000-1-2\" x=\"67.489528\" y=\"224.31597\"/>\n  <use xlink:href=\"#glyph-1672690343052000-1-5\" x=\"72.142498\" y=\"224.31597\"/>\n</g>\n<path style=\"fill:none;stroke-width:0.3985;stroke-linecap:butt;stroke-linejoin:miter;stroke:rgb(0%,0%,0%);stroke-opacity:1;stroke-miterlimit:10;\" d=\"M 105.046584 62.311754 C 151.760329 67.312748 199.119238 199.1216 165.899184 165.897636 \" transform=\"matrix(0.99902,0,0,-0.99902,7.587604,290.832724)\"/>\n<g style=\"fill:rgb(0%,0%,0%);fill-opacity:1;\">\n  <use xlink:href=\"#glyph-1672690343052000-1-1\" x=\"168.104155\" y=\"164.303835\"/>\n  <use xlink:href=\"#glyph-1672690343052000-1-2\" x=\"172.986041\" y=\"164.303835\"/>\n</g>\n<path style=\"fill:none;stroke-width:0.3985;stroke-linecap:butt;stroke-linejoin:miter;stroke:rgb(0%,0%,0%);stroke-opacity:1;stroke-miterlimit:10;\" d=\"M 157.633272 157.631724 C 159.44364 159.446001 151.189457 151.187909 153.003735 153.002187 \" transform=\"matrix(0.99902,0,0,-0.99902,7.587604,290.832724)\"/>\n<g style=\"fill:rgb(0%,0%,0%);fill-opacity:1;\">\n  <use xlink:href=\"#glyph-1672690343052000-1-1\" x=\"152.097855\" y=\"136.969647\"/>\n  <use xlink:href=\"#glyph-1672690343052000-1-2\" x=\"156.979741\" y=\"136.969647\"/>\n  <use xlink:href=\"#glyph-1672690343052000-1-3\" x=\"161.632712\" y=\"136.969647\"/>\n  <use xlink:href=\"#glyph-1672690343052000-1-4\" x=\"163.638216\" y=\"136.969647\"/>\n  <use xlink:href=\"#glyph-1672690343052000-1-5\" x=\"168.405645\" y=\"136.969647\"/>\n</g>\n<path style=\"fill:none;stroke-width:0.3985;stroke-linecap:butt;stroke-linejoin:miter;stroke:rgb(0%,0%,0%);stroke-opacity:1;stroke-miterlimit:10;\" d=\"M 144.733913 144.736274 C 109.590099 109.592461 249.215204 118.761602 246.849604 69.119206 \" transform=\"matrix(0.99902,0,0,-0.99902,7.587604,290.832724)\"/>\n<g style=\"fill:rgb(0%,0%,0%);fill-opacity:1;\">\n  <use xlink:href=\"#glyph-1672690343052000-1-1\" x=\"186.137466\" y=\"180.362084\"/>\n  <use xlink:href=\"#glyph-1672690343052000-1-2\" x=\"191.019352\" y=\"180.362084\"/>\n</g>\n<path style=\"fill:none;stroke-width:0.3985;stroke-linecap:butt;stroke-linejoin:miter;stroke:rgb(0%,0%,0%);stroke-opacity:1;stroke-miterlimit:10;\" d=\"M 32.565401 232.587988 L 5.022786 275.614526 \" transform=\"matrix(0.99902,0,0,-0.99902,7.587604,290.832724)\"/>\n<g style=\"fill:rgb(0%,0%,0%);fill-opacity:1;\">\n  <use xlink:href=\"#glyph-1672690343052000-1-1\" x=\"10.027211\" y=\"38.283448\"/>\n</g>\n<g style=\"fill:rgb(0%,0%,0%);fill-opacity:1;\">\n  <use xlink:href=\"#glyph-1672690343052000-1-4\" x=\"14.734922\" y=\"38.283448\"/>\n  <use xlink:href=\"#glyph-1672690343052000-1-3\" x=\"19.502351\" y=\"38.283448\"/>\n  <use xlink:href=\"#glyph-1672690343052000-1-2\" x=\"21.507855\" y=\"38.283448\"/>\n  <use xlink:href=\"#glyph-1672690343052000-1-4\" x=\"26.160826\" y=\"38.283448\"/>\n  <use xlink:href=\"#glyph-1672690343052000-1-3\" x=\"30.928254\" y=\"38.283448\"/>\n  <use xlink:href=\"#glyph-1672690343052000-1-4\" x=\"32.933759\" y=\"38.283448\"/>\n  <use xlink:href=\"#glyph-1672690343052000-1-5\" x=\"37.701187\" y=\"38.283448\"/>\n</g>\n<path style=\"fill:none;stroke-width:0.3985;stroke-linecap:butt;stroke-linejoin:miter;stroke:rgb(0%,0%,0%);stroke-opacity:1;stroke-miterlimit:10;\" d=\"M 42.410987 217.213547 C 75.263492 165.983658 64.057199 115.007924 34.371859 61.834724 \" transform=\"matrix(0.99902,0,0,-0.99902,7.587604,290.832724)\"/>\n<g style=\"fill:rgb(0%,0%,0%);fill-opacity:1;\">\n  <use xlink:href=\"#glyph-1672690343052000-1-2\" x=\"64.659623\" y=\"152.419493\"/>\n  <use xlink:href=\"#glyph-1672690343052000-1-4\" x=\"69.312593\" y=\"152.419493\"/>\n</g>\n<path style=\"fill:none;stroke-width:0.3985;stroke-linecap:butt;stroke-linejoin:miter;stroke:rgb(0%,0%,0%);stroke-opacity:1;stroke-miterlimit:10;\" d=\"M 115.036843 204.200796 C 87.154051 211.649501 58.031763 192.90848 42.418807 217.213547 \" transform=\"matrix(0.99902,0,0,-0.99902,7.587604,290.832724)\"/>\n<g style=\"fill:rgb(0%,0%,0%);fill-opacity:1;\">\n  <use xlink:href=\"#glyph-1672690343052000-1-1\" x=\"71.018386\" y=\"87.949731\"/>\n</g>\n<g style=\"fill:rgb(0%,0%,0%);fill-opacity:1;\">\n  <use xlink:href=\"#glyph-1672690343052000-1-4\" x=\"75.726097\" y=\"87.949731\"/>\n  <use xlink:href=\"#glyph-1672690343052000-1-3\" x=\"80.493525\" y=\"87.949731\"/>\n  <use xlink:href=\"#glyph-1672690343052000-1-4\" x=\"82.499029\" y=\"87.949731\"/>\n  <use xlink:href=\"#glyph-1672690343052000-1-5\" x=\"87.266458\" y=\"87.949731\"/>\n</g>\n<path style=\"fill:none;stroke-width:0.3985;stroke-linecap:butt;stroke-linejoin:miter;stroke:rgb(0%,0%,0%);stroke-opacity:1;stroke-miterlimit:10;\" d=\"M 127.936202 200.767744 C 198.446704 182.050183 191.889497 107.000077 239.271866 51.59031 \" transform=\"matrix(0.99902,0,0,-0.99902,7.587604,290.832724)\"/>\n<g style=\"fill:rgb(0%,0%,0%);fill-opacity:1;\">\n  <use xlink:href=\"#glyph-1672690343052000-1-1\" x=\"194.935836\" y=\"152.762156\"/>\n</g>\n<g style=\"fill:rgb(0%,0%,0%);fill-opacity:1;\">\n  <use xlink:href=\"#glyph-1672690343052000-1-4\" x=\"199.643547\" y=\"152.762156\"/>\n</g>\n<path style=\"fill:none;stroke-width:0.3985;stroke-linecap:butt;stroke-linejoin:miter;stroke:rgb(0%,0%,0%);stroke-opacity:1;stroke-miterlimit:10;\" d=\"M 127.936202 200.783384 C 150.032073 194.973003 128.561815 128.560267 144.733913 144.736274 \" transform=\"matrix(0.99902,0,0,-0.99902,7.587604,290.832724)\"/>\n<g style=\"fill:rgb(0%,0%,0%);fill-opacity:1;\">\n  <use xlink:href=\"#glyph-1672690343052000-1-4\" x=\"141.124619\" y=\"128.181268\"/>\n  <use xlink:href=\"#glyph-1672690343052000-1-5\" x=\"145.892047\" y=\"128.181268\"/>\n</g>\n<path style=\"fill:none;stroke-width:0.3985;stroke-linecap:butt;stroke-linejoin:miter;stroke:rgb(0%,0%,0%);stroke-opacity:1;stroke-miterlimit:10;\" d=\"M 255.440053 252.32608 L 276.628786 275.864772 \" transform=\"matrix(0.99902,0,0,-0.99902,7.587604,290.832724)\"/>\n<g style=\"fill:rgb(0%,0%,0%);fill-opacity:1;\">\n  <use xlink:href=\"#glyph-1672690343052000-1-1\" x=\"256.706245\" y=\"28.299241\"/>\n  <use xlink:href=\"#glyph-1672690343052000-1-5\" x=\"261.588132\" y=\"28.299241\"/>\n  <use xlink:href=\"#glyph-1672690343052000-1-3\" x=\"266.584476\" y=\"28.299241\"/>\n  <use xlink:href=\"#glyph-1672690343052000-1-2\" x=\"268.589981\" y=\"28.299241\"/>\n  <use xlink:href=\"#glyph-1672690343052000-1-5\" x=\"273.242951\" y=\"28.299241\"/>\n  <use xlink:href=\"#glyph-1672690343052000-1-3\" x=\"278.239295\" y=\"28.299241\"/>\n  <use xlink:href=\"#glyph-1672690343052000-1-4\" x=\"280.2448\" y=\"28.299241\"/>\n  <use xlink:href=\"#glyph-1672690343052000-1-5\" x=\"285.012228\" y=\"28.299241\"/>\n</g>\n<path style=\"fill:none;stroke-width:0.3985;stroke-linecap:butt;stroke-linejoin:miter;stroke:rgb(0%,0%,0%);stroke-opacity:1;stroke-miterlimit:10;\" d=\"M 242.544604 237.94871 C 215.064551 207.211559 194.947181 194.945633 165.899184 165.897636 \" transform=\"matrix(0.99902,0,0,-0.99902,7.587604,290.832724)\"/>\n<g style=\"fill:rgb(0%,0%,0%);fill-opacity:1;\">\n  <use xlink:href=\"#glyph-1672690343052000-1-4\" x=\"207.311696\" y=\"91.442305\"/>\n  <use xlink:href=\"#glyph-1672690343052000-1-5\" x=\"212.079124\" y=\"91.442305\"/>\n</g>\n<path style=\"fill:none;stroke-width:0.3985;stroke-linecap:butt;stroke-linejoin:miter;stroke:rgb(0%,0%,0%);stroke-opacity:1;stroke-miterlimit:10;\" d=\"M 229.047003 177.702173 C 235.932656 200.779474 226.442888 219.852852 242.544604 237.92525 \" transform=\"matrix(0.99902,0,0,-0.99902,7.587604,290.832724)\"/>\n<g style=\"fill:rgb(0%,0%,0%);fill-opacity:1;\">\n  <use xlink:href=\"#glyph-1672690343052000-1-1\" x=\"228.929491\" y=\"82.649929\"/>\n  <use xlink:href=\"#glyph-1672690343052000-1-5\" x=\"233.811378\" y=\"82.649929\"/>\n  <use xlink:href=\"#glyph-1672690343052000-1-3\" x=\"238.807722\" y=\"82.649929\"/>\n  <use xlink:href=\"#glyph-1672690343052000-1-2\" x=\"240.813227\" y=\"82.649929\"/>\n  <use xlink:href=\"#glyph-1672690343052000-1-5\" x=\"245.466197\" y=\"82.649929\"/>\n</g>\n<path style=\"fill:none;stroke-width:0.3985;stroke-linecap:butt;stroke-linejoin:miter;stroke:rgb(0%,0%,0%);stroke-opacity:1;stroke-miterlimit:10;\" d=\"M 224.534768 162.460674 C 213.930627 126.437092 248.644332 106.644259 246.853514 69.119206 \" transform=\"matrix(0.99902,0,0,-0.99902,7.587604,290.832724)\"/>\n<g style=\"fill:rgb(0%,0%,0%);fill-opacity:1;\">\n  <use xlink:href=\"#glyph-1672690343052000-1-1\" x=\"234.806726\" y=\"176.376993\"/>\n  <use xlink:href=\"#glyph-1672690343052000-1-5\" x=\"239.688613\" y=\"176.376993\"/>\n</g>\n<path style=\"fill:none;stroke-width:0.3985;stroke-linecap:butt;stroke-linejoin:miter;stroke:rgb(0%,0%,0%);stroke-opacity:1;stroke-miterlimit:10;\" d=\"M 224.530858 162.460674 C 207.244387 103.848551 165.820983 68.81813 105.046584 62.311754 \" transform=\"matrix(0.99902,0,0,-0.99902,7.587604,290.832724)\"/>\n<g style=\"fill:rgb(0%,0%,0%);fill-opacity:1;\">\n  <use xlink:href=\"#glyph-1672690343052000-1-2\" x=\"183.680876\" y=\"199.77704\"/>\n  <use xlink:href=\"#glyph-1672690343052000-1-5\" x=\"188.333846\" y=\"199.77704\"/>\n</g>\n</g>\n</svg>\n\n",
      "text/plain": [
       "TikzPicture(\"\\$\\$\\$\\\\node (-1) at (20.0,0.0) {\\\\large A};\\$\\$\\\\node (-2) at (0.0,0.0) {\\\\large B};\\$\\$\\\\node (-3) at (0.0,20.0) {\\\\large C};\\$\\$\\\\node (-4) at (20.0,20.0) {\\\\large D};\\$\\$\\\\node (1) at (17.333333333333332,3.1111111111111107) {\\\\large 1};\\$\\$\\\\node (2) at (17.391304347826086,4.3478260869565215) {\\\\large 2};\\$\\$\\\\node (3) at (11.25,11.25) {\\\\large 3};\\$\\$\\\\node (4) at (2.127659574468085,3.8297872340425534) {\\\\large 4};\\$\\$\\\\node (5) at (6.956521739130435,4.3478260869565215) {\\\\large 5};\\$\\$\\\\node (6) at (10.666666666666668,10.666666666666668) {\\\\large 6};\\$\\$\\\\node (7) at (2.644628099173554,15.867768595041321) {\\\\large 7};\\$\\$\\\\node (8) at (8.57142857142857,14.285714285714285) {\\\\large 8};\\$\\$\\\\node (9) at (17.567567567567565,17.297297297297295) {\\\\large 9};\\$\\$\\\\node (10) at (16.0,12.000000000000002) {\\\\large 10};\\$\\$\\\\draw (1) to[edge node={node {\\\\tiny AB,AC,AD}}] (-1);\\$\\$\\\\draw (2) to[out=267.316224840531, in=130.6012946450045, looseness=1, edge node={node {\\\\tiny AB,AD}}] (1);\\$\\$\\\\draw (4) to[edge node={node {\\\\tiny AB,BC,BD}}] (-2);\\$\\$\\\\draw (5) to[out=186.12325461866143, in=60.94539590092286, looseness=1, edge node={node {\\\\tiny AB,BD}}] (4);\\$\\$\\\\draw (5) to[out=6.123254618661426, in=45.0, looseness=1, edge node={node {\\\\tiny AB}}] (3);\\$\\$\\\\draw (6) to[out=45.0, in=225.0, looseness=1, edge node={node {\\\\tiny AB,CD}}] (3);\\$\\$\\\\draw (6) to[out=-135.0, in=87.316224840531, looseness=1, edge node={node {\\\\tiny AB}}] (2);\\$\\$\\\\draw (7) to[edge node={node {\\\\tiny AC,BC,CD}}] (-3);\\$\\$\\\\draw (7) to[out=-57.38075692880719, in=60.94539590092286, looseness=1, edge node={node {\\\\tiny BC}}] (4);\\$\\$\\\\draw (8) to[out=165.05437608287437, in=-57.38075692880719, looseness=1, edge node={node {\\\\tiny AC,CD}}] (7);\\$\\$\\\\draw (8) to[out=-14.945623917125625, in=130.6012946450045, looseness=1, edge node={node {\\\\tiny AC}}] (1);\\$\\$\\\\draw (8) to[out=-14.945623917125625, in=-135.0, looseness=1, edge node={node {\\\\tiny CD}}] (6);\\$\\$\\\\draw (9) to[edge node={node {\\\\tiny AD,BD,CD}}] (-4);\\$\\$\\\\draw (9) to[out=-131.98721249581666, in=45.0, looseness=1, edge node={node {\\\\tiny CD}}] (3);\\$\\$\\\\draw (10) to[out=73.51554681046433, in=-131.98721249581666, looseness=1, edge node={node {\\\\tiny AD,BD}}] (9);\\$\\$\\\\draw (10) to[out=-106.48445318953567, in=87.316224840531, looseness=1, edge node={node {\\\\tiny AD}}] (2);\\$\\$\\\\draw (10) to[out=-106.48445318953567, in=6.123254618661426, looseness=1, edge node={node {\\\\tiny BD}}] (5);\\$\", \"scale=0.5\", \"\", \"tikzpicture\", \"\", \"\", true, true)"
      ]
     },
     "execution_count": 33,
     "metadata": {},
     "output_type": "execute_result"
    }
   ],
   "source": [
    "g = graph_list[79]\n",
    "source_positions = [\n",
    "[20.0,00.0],\n",
    "[0.0,0.0],\n",
    "[0.0,20.0],\n",
    "[20.0,20.0]\n",
    "]\n",
    "tikz_string,stacked = tikz_string_graph(g,source_list,path_list,starting_edges,source_positions,true)\n",
    "tp = TikzPicture(tikz_string\n",
    "    , options=\"scale=0.5\", preamble=\"\")"
   ]
  },
  {
   "cell_type": "code",
   "execution_count": 38,
   "metadata": {},
   "outputs": [],
   "source": [
    "for i=1:length(graph_list)\n",
    "    g = graph_list[i]\n",
    "    source_positions = [\n",
    "    [0.0,0.0],\n",
    "    [0.0,20.0],\n",
    "    [20.0,0.0],\n",
    "    [20.0,20.0]\n",
    "    ]\n",
    "    tikz_string,stacked = tikz_string_graph(g,source_list,path_list,starting_edges,source_positions)\n",
    "    if stacked\n",
    "        source_positions = [\n",
    "        [20.0,0.0],\n",
    "        [0.0,20.0],\n",
    "        [0.0,0.0],\n",
    "        [20.0,20.0]\n",
    "        ]\n",
    "        tikz_string,stacked = tikz_string_graph(g,source_list,path_list,starting_edges,source_positions)\n",
    "    end\n",
    "    if stacked\n",
    "        source_positions = [\n",
    "        [0.0,0.0],\n",
    "        [0.0,20.0],\n",
    "        [20.0,20.0],\n",
    "        [20.0,0.0]\n",
    "        ]\n",
    "        tikz_string,stacked = tikz_string_graph(g,source_list,path_list,starting_edges,source_positions)\n",
    "    end\n",
    "    if stacked\n",
    "        println(i)\n",
    "    end\n",
    "    \"\"\"tp = TikzPicture(tikz_string\n",
    "    , options=\"scale=0.5\", preamble=\"\")\n",
    "    save(SVG(\"graph_saves/graph_$i.svg\"), tp)\"\"\"\n",
    "end"
   ]
  }
 ],
 "metadata": {
  "kernelspec": {
   "display_name": "Julia 8 Threads 1.8.3",
   "language": "julia",
   "name": "julia-8-threads-1.8"
  },
  "language_info": {
   "file_extension": ".jl",
   "mimetype": "application/julia",
   "name": "julia",
   "version": "1.8.3"
  },
  "orig_nbformat": 4,
  "vscode": {
   "interpreter": {
    "hash": "81794d4967e6c3204c66dcd87b604927b115b27c00565d3d43f05ba2f3a2cb0d"
   }
  }
 },
 "nbformat": 4,
 "nbformat_minor": 2
}
